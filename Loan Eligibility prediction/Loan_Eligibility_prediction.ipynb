{
  "cells": [
    {
      "cell_type": "code",
      "execution_count": null,
      "metadata": {
        "id": "Uu62u0KdsDzr"
      },
      "outputs": [],
      "source": [
        "import pandas as pd \n",
        "from scipy import stats\n",
        "import numpy as np \n",
        "import matplotlib.pyplot as plt \n",
        "import seaborn as sns\n",
        "%matplotlib inline"
      ]
    },
    {
      "cell_type": "code",
      "execution_count": null,
      "metadata": {
        "id": "mATJJ5yusK5E"
      },
      "outputs": [],
      "source": [
        "data=pd.read_csv(\"/content/loan_data_set.csv\")"
      ]
    },
    {
      "cell_type": "code",
      "execution_count": null,
      "metadata": {
        "id": "hg2RS6uGEM6E"
      },
      "outputs": [],
      "source": [
        "#Encoding\n",
        "data=pd.get_dummies(data,columns=['Property_Area', 'Dependents'])\n",
        "#data.head()"
      ]
    },
    {
      "cell_type": "code",
      "execution_count": null,
      "metadata": {
        "id": "8qdeJMAFxVEX"
      },
      "outputs": [],
      "source": [
        "#converting categorical values to numerical\n",
        "data['Education']=data['Education'].replace(\"Graduate\",1)\n",
        "data['Education']=data['Education'].replace(\"Not Graduate\",0)\n",
        "data['Self_Employed']=data['Self_Employed'].replace(\"Yes\",1)\n",
        "data['Self_Employed']=data['Self_Employed'].replace(\"No\",0)\n",
        "data['Married']=data['Married'].replace(\"Yes\",1)\n",
        "data['Married']=data['Married'].replace(\"No\",0)\n",
        "data['Gender']=data['Gender'].replace(\"Male\",1)\n",
        "data['Gender']=data['Gender'].replace(\"Female\",0)\n",
        "data['Loan_Status']=data['Loan_Status'].replace(\"Y\",1)\n",
        "data['Loan_Status']=data['Loan_Status'].replace(\"N\",0)"
      ]
    },
    {
      "cell_type": "code",
      "execution_count": null,
      "metadata": {
        "colab": {
          "base_uri": "https://localhost:8080/"
        },
        "id": "2Oa5d-M51IFr",
        "outputId": "231abe82-f05f-45a1-cbff-811c9c8a5cd1"
      },
      "outputs": [
        {
          "output_type": "execute_result",
          "data": {
            "text/plain": [
              "0"
            ]
          },
          "metadata": {},
          "execution_count": 41
        }
      ],
      "source": [
        "#make sure there are no duplicated records\n",
        "sum(data.duplicated())"
      ]
    },
    {
      "cell_type": "code",
      "execution_count": null,
      "metadata": {
        "colab": {
          "base_uri": "https://localhost:8080/"
        },
        "id": "f7APuHdN12sp",
        "outputId": "fdbf3fbb-7637-42ff-f97c-5c0d649c503e"
      },
      "outputs": [
        {
          "output_type": "stream",
          "name": "stdout",
          "text": [
            "Loan_ID                     0\n",
            "Gender                     13\n",
            "Married                     3\n",
            "Education                   0\n",
            "Self_Employed              32\n",
            "ApplicantIncome             0\n",
            "CoapplicantIncome           0\n",
            "LoanAmount                 22\n",
            "Loan_Amount_Term           14\n",
            "Credit_History             50\n",
            "Loan_Status                 0\n",
            "Property_Area_Rural         0\n",
            "Property_Area_Semiurban     0\n",
            "Property_Area_Urban         0\n",
            "Dependents_0                0\n",
            "Dependents_1                0\n",
            "Dependents_2                0\n",
            "Dependents_3+               0\n",
            "dtype: int64\n"
          ]
        }
      ],
      "source": [
        "#checking for NULLS\n",
        "print (data.isnull().sum())"
      ]
    },
    {
      "cell_type": "code",
      "execution_count": null,
      "metadata": {
        "colab": {
          "base_uri": "https://localhost:8080/",
          "height": 364
        },
        "id": "2JqF7S8k6nHM",
        "outputId": "7c63c366-72b2-47ef-f0e3-7207ef7dc07d"
      },
      "outputs": [
        {
          "output_type": "execute_result",
          "data": {
            "text/plain": [
              "           Gender     Married   Education  Self_Employed  ApplicantIncome  \\\n",
              "count  601.000000  611.000000  614.000000     582.000000       614.000000   \n",
              "mean     0.813644    0.651391    0.781759       0.140893      5403.459283   \n",
              "std      0.389718    0.476920    0.413389       0.348211      6109.041673   \n",
              "min      0.000000    0.000000    0.000000       0.000000       150.000000   \n",
              "25%      1.000000    0.000000    1.000000       0.000000      2877.500000   \n",
              "50%      1.000000    1.000000    1.000000       0.000000      3812.500000   \n",
              "75%      1.000000    1.000000    1.000000       0.000000      5795.000000   \n",
              "max      1.000000    1.000000    1.000000       1.000000     81000.000000   \n",
              "\n",
              "       CoapplicantIncome  LoanAmount  Loan_Amount_Term  Credit_History  \\\n",
              "count         614.000000  592.000000         600.00000      564.000000   \n",
              "mean         1621.245798  146.412162         342.00000        0.842199   \n",
              "std          2926.248369   85.587325          65.12041        0.364878   \n",
              "min             0.000000    9.000000          12.00000        0.000000   \n",
              "25%             0.000000  100.000000         360.00000        1.000000   \n",
              "50%          1188.500000  128.000000         360.00000        1.000000   \n",
              "75%          2297.250000  168.000000         360.00000        1.000000   \n",
              "max         41667.000000  700.000000         480.00000        1.000000   \n",
              "\n",
              "       Loan_Status  Property_Area_Rural  Property_Area_Semiurban  \\\n",
              "count   614.000000           614.000000               614.000000   \n",
              "mean      0.687296             0.291531                 0.379479   \n",
              "std       0.463973             0.454838                 0.485653   \n",
              "min       0.000000             0.000000                 0.000000   \n",
              "25%       0.000000             0.000000                 0.000000   \n",
              "50%       1.000000             0.000000                 0.000000   \n",
              "75%       1.000000             1.000000                 1.000000   \n",
              "max       1.000000             1.000000                 1.000000   \n",
              "\n",
              "       Property_Area_Urban  Dependents_0  Dependents_1  Dependents_2  \\\n",
              "count           614.000000    614.000000    614.000000    614.000000   \n",
              "mean              0.328990      0.561889      0.166124      0.164495   \n",
              "std               0.470229      0.496559      0.372495      0.371027   \n",
              "min               0.000000      0.000000      0.000000      0.000000   \n",
              "25%               0.000000      0.000000      0.000000      0.000000   \n",
              "50%               0.000000      1.000000      0.000000      0.000000   \n",
              "75%               1.000000      1.000000      0.000000      0.000000   \n",
              "max               1.000000      1.000000      1.000000      1.000000   \n",
              "\n",
              "       Dependents_3+  \n",
              "count     614.000000  \n",
              "mean        0.083062  \n",
              "std         0.276201  \n",
              "min         0.000000  \n",
              "25%         0.000000  \n",
              "50%         0.000000  \n",
              "75%         0.000000  \n",
              "max         1.000000  "
            ],
            "text/html": [
              "\n",
              "  <div id=\"df-f248acc5-609b-47cb-8b28-579e3afb3fa5\">\n",
              "    <div class=\"colab-df-container\">\n",
              "      <div>\n",
              "<style scoped>\n",
              "    .dataframe tbody tr th:only-of-type {\n",
              "        vertical-align: middle;\n",
              "    }\n",
              "\n",
              "    .dataframe tbody tr th {\n",
              "        vertical-align: top;\n",
              "    }\n",
              "\n",
              "    .dataframe thead th {\n",
              "        text-align: right;\n",
              "    }\n",
              "</style>\n",
              "<table border=\"1\" class=\"dataframe\">\n",
              "  <thead>\n",
              "    <tr style=\"text-align: right;\">\n",
              "      <th></th>\n",
              "      <th>Gender</th>\n",
              "      <th>Married</th>\n",
              "      <th>Education</th>\n",
              "      <th>Self_Employed</th>\n",
              "      <th>ApplicantIncome</th>\n",
              "      <th>CoapplicantIncome</th>\n",
              "      <th>LoanAmount</th>\n",
              "      <th>Loan_Amount_Term</th>\n",
              "      <th>Credit_History</th>\n",
              "      <th>Loan_Status</th>\n",
              "      <th>Property_Area_Rural</th>\n",
              "      <th>Property_Area_Semiurban</th>\n",
              "      <th>Property_Area_Urban</th>\n",
              "      <th>Dependents_0</th>\n",
              "      <th>Dependents_1</th>\n",
              "      <th>Dependents_2</th>\n",
              "      <th>Dependents_3+</th>\n",
              "    </tr>\n",
              "  </thead>\n",
              "  <tbody>\n",
              "    <tr>\n",
              "      <th>count</th>\n",
              "      <td>601.000000</td>\n",
              "      <td>611.000000</td>\n",
              "      <td>614.000000</td>\n",
              "      <td>582.000000</td>\n",
              "      <td>614.000000</td>\n",
              "      <td>614.000000</td>\n",
              "      <td>592.000000</td>\n",
              "      <td>600.00000</td>\n",
              "      <td>564.000000</td>\n",
              "      <td>614.000000</td>\n",
              "      <td>614.000000</td>\n",
              "      <td>614.000000</td>\n",
              "      <td>614.000000</td>\n",
              "      <td>614.000000</td>\n",
              "      <td>614.000000</td>\n",
              "      <td>614.000000</td>\n",
              "      <td>614.000000</td>\n",
              "    </tr>\n",
              "    <tr>\n",
              "      <th>mean</th>\n",
              "      <td>0.813644</td>\n",
              "      <td>0.651391</td>\n",
              "      <td>0.781759</td>\n",
              "      <td>0.140893</td>\n",
              "      <td>5403.459283</td>\n",
              "      <td>1621.245798</td>\n",
              "      <td>146.412162</td>\n",
              "      <td>342.00000</td>\n",
              "      <td>0.842199</td>\n",
              "      <td>0.687296</td>\n",
              "      <td>0.291531</td>\n",
              "      <td>0.379479</td>\n",
              "      <td>0.328990</td>\n",
              "      <td>0.561889</td>\n",
              "      <td>0.166124</td>\n",
              "      <td>0.164495</td>\n",
              "      <td>0.083062</td>\n",
              "    </tr>\n",
              "    <tr>\n",
              "      <th>std</th>\n",
              "      <td>0.389718</td>\n",
              "      <td>0.476920</td>\n",
              "      <td>0.413389</td>\n",
              "      <td>0.348211</td>\n",
              "      <td>6109.041673</td>\n",
              "      <td>2926.248369</td>\n",
              "      <td>85.587325</td>\n",
              "      <td>65.12041</td>\n",
              "      <td>0.364878</td>\n",
              "      <td>0.463973</td>\n",
              "      <td>0.454838</td>\n",
              "      <td>0.485653</td>\n",
              "      <td>0.470229</td>\n",
              "      <td>0.496559</td>\n",
              "      <td>0.372495</td>\n",
              "      <td>0.371027</td>\n",
              "      <td>0.276201</td>\n",
              "    </tr>\n",
              "    <tr>\n",
              "      <th>min</th>\n",
              "      <td>0.000000</td>\n",
              "      <td>0.000000</td>\n",
              "      <td>0.000000</td>\n",
              "      <td>0.000000</td>\n",
              "      <td>150.000000</td>\n",
              "      <td>0.000000</td>\n",
              "      <td>9.000000</td>\n",
              "      <td>12.00000</td>\n",
              "      <td>0.000000</td>\n",
              "      <td>0.000000</td>\n",
              "      <td>0.000000</td>\n",
              "      <td>0.000000</td>\n",
              "      <td>0.000000</td>\n",
              "      <td>0.000000</td>\n",
              "      <td>0.000000</td>\n",
              "      <td>0.000000</td>\n",
              "      <td>0.000000</td>\n",
              "    </tr>\n",
              "    <tr>\n",
              "      <th>25%</th>\n",
              "      <td>1.000000</td>\n",
              "      <td>0.000000</td>\n",
              "      <td>1.000000</td>\n",
              "      <td>0.000000</td>\n",
              "      <td>2877.500000</td>\n",
              "      <td>0.000000</td>\n",
              "      <td>100.000000</td>\n",
              "      <td>360.00000</td>\n",
              "      <td>1.000000</td>\n",
              "      <td>0.000000</td>\n",
              "      <td>0.000000</td>\n",
              "      <td>0.000000</td>\n",
              "      <td>0.000000</td>\n",
              "      <td>0.000000</td>\n",
              "      <td>0.000000</td>\n",
              "      <td>0.000000</td>\n",
              "      <td>0.000000</td>\n",
              "    </tr>\n",
              "    <tr>\n",
              "      <th>50%</th>\n",
              "      <td>1.000000</td>\n",
              "      <td>1.000000</td>\n",
              "      <td>1.000000</td>\n",
              "      <td>0.000000</td>\n",
              "      <td>3812.500000</td>\n",
              "      <td>1188.500000</td>\n",
              "      <td>128.000000</td>\n",
              "      <td>360.00000</td>\n",
              "      <td>1.000000</td>\n",
              "      <td>1.000000</td>\n",
              "      <td>0.000000</td>\n",
              "      <td>0.000000</td>\n",
              "      <td>0.000000</td>\n",
              "      <td>1.000000</td>\n",
              "      <td>0.000000</td>\n",
              "      <td>0.000000</td>\n",
              "      <td>0.000000</td>\n",
              "    </tr>\n",
              "    <tr>\n",
              "      <th>75%</th>\n",
              "      <td>1.000000</td>\n",
              "      <td>1.000000</td>\n",
              "      <td>1.000000</td>\n",
              "      <td>0.000000</td>\n",
              "      <td>5795.000000</td>\n",
              "      <td>2297.250000</td>\n",
              "      <td>168.000000</td>\n",
              "      <td>360.00000</td>\n",
              "      <td>1.000000</td>\n",
              "      <td>1.000000</td>\n",
              "      <td>1.000000</td>\n",
              "      <td>1.000000</td>\n",
              "      <td>1.000000</td>\n",
              "      <td>1.000000</td>\n",
              "      <td>0.000000</td>\n",
              "      <td>0.000000</td>\n",
              "      <td>0.000000</td>\n",
              "    </tr>\n",
              "    <tr>\n",
              "      <th>max</th>\n",
              "      <td>1.000000</td>\n",
              "      <td>1.000000</td>\n",
              "      <td>1.000000</td>\n",
              "      <td>1.000000</td>\n",
              "      <td>81000.000000</td>\n",
              "      <td>41667.000000</td>\n",
              "      <td>700.000000</td>\n",
              "      <td>480.00000</td>\n",
              "      <td>1.000000</td>\n",
              "      <td>1.000000</td>\n",
              "      <td>1.000000</td>\n",
              "      <td>1.000000</td>\n",
              "      <td>1.000000</td>\n",
              "      <td>1.000000</td>\n",
              "      <td>1.000000</td>\n",
              "      <td>1.000000</td>\n",
              "      <td>1.000000</td>\n",
              "    </tr>\n",
              "  </tbody>\n",
              "</table>\n",
              "</div>\n",
              "      <button class=\"colab-df-convert\" onclick=\"convertToInteractive('df-f248acc5-609b-47cb-8b28-579e3afb3fa5')\"\n",
              "              title=\"Convert this dataframe to an interactive table.\"\n",
              "              style=\"display:none;\">\n",
              "        \n",
              "  <svg xmlns=\"http://www.w3.org/2000/svg\" height=\"24px\"viewBox=\"0 0 24 24\"\n",
              "       width=\"24px\">\n",
              "    <path d=\"M0 0h24v24H0V0z\" fill=\"none\"/>\n",
              "    <path d=\"M18.56 5.44l.94 2.06.94-2.06 2.06-.94-2.06-.94-.94-2.06-.94 2.06-2.06.94zm-11 1L8.5 8.5l.94-2.06 2.06-.94-2.06-.94L8.5 2.5l-.94 2.06-2.06.94zm10 10l.94 2.06.94-2.06 2.06-.94-2.06-.94-.94-2.06-.94 2.06-2.06.94z\"/><path d=\"M17.41 7.96l-1.37-1.37c-.4-.4-.92-.59-1.43-.59-.52 0-1.04.2-1.43.59L10.3 9.45l-7.72 7.72c-.78.78-.78 2.05 0 2.83L4 21.41c.39.39.9.59 1.41.59.51 0 1.02-.2 1.41-.59l7.78-7.78 2.81-2.81c.8-.78.8-2.07 0-2.86zM5.41 20L4 18.59l7.72-7.72 1.47 1.35L5.41 20z\"/>\n",
              "  </svg>\n",
              "      </button>\n",
              "      \n",
              "  <style>\n",
              "    .colab-df-container {\n",
              "      display:flex;\n",
              "      flex-wrap:wrap;\n",
              "      gap: 12px;\n",
              "    }\n",
              "\n",
              "    .colab-df-convert {\n",
              "      background-color: #E8F0FE;\n",
              "      border: none;\n",
              "      border-radius: 50%;\n",
              "      cursor: pointer;\n",
              "      display: none;\n",
              "      fill: #1967D2;\n",
              "      height: 32px;\n",
              "      padding: 0 0 0 0;\n",
              "      width: 32px;\n",
              "    }\n",
              "\n",
              "    .colab-df-convert:hover {\n",
              "      background-color: #E2EBFA;\n",
              "      box-shadow: 0px 1px 2px rgba(60, 64, 67, 0.3), 0px 1px 3px 1px rgba(60, 64, 67, 0.15);\n",
              "      fill: #174EA6;\n",
              "    }\n",
              "\n",
              "    [theme=dark] .colab-df-convert {\n",
              "      background-color: #3B4455;\n",
              "      fill: #D2E3FC;\n",
              "    }\n",
              "\n",
              "    [theme=dark] .colab-df-convert:hover {\n",
              "      background-color: #434B5C;\n",
              "      box-shadow: 0px 1px 3px 1px rgba(0, 0, 0, 0.15);\n",
              "      filter: drop-shadow(0px 1px 2px rgba(0, 0, 0, 0.3));\n",
              "      fill: #FFFFFF;\n",
              "    }\n",
              "  </style>\n",
              "\n",
              "      <script>\n",
              "        const buttonEl =\n",
              "          document.querySelector('#df-f248acc5-609b-47cb-8b28-579e3afb3fa5 button.colab-df-convert');\n",
              "        buttonEl.style.display =\n",
              "          google.colab.kernel.accessAllowed ? 'block' : 'none';\n",
              "\n",
              "        async function convertToInteractive(key) {\n",
              "          const element = document.querySelector('#df-f248acc5-609b-47cb-8b28-579e3afb3fa5');\n",
              "          const dataTable =\n",
              "            await google.colab.kernel.invokeFunction('convertToInteractive',\n",
              "                                                     [key], {});\n",
              "          if (!dataTable) return;\n",
              "\n",
              "          const docLinkHtml = 'Like what you see? Visit the ' +\n",
              "            '<a target=\"_blank\" href=https://colab.research.google.com/notebooks/data_table.ipynb>data table notebook</a>'\n",
              "            + ' to learn more about interactive tables.';\n",
              "          element.innerHTML = '';\n",
              "          dataTable['output_type'] = 'display_data';\n",
              "          await google.colab.output.renderOutput(dataTable, element);\n",
              "          const docLink = document.createElement('div');\n",
              "          docLink.innerHTML = docLinkHtml;\n",
              "          element.appendChild(docLink);\n",
              "        }\n",
              "      </script>\n",
              "    </div>\n",
              "  </div>\n",
              "  "
            ]
          },
          "metadata": {},
          "execution_count": 44
        }
      ],
      "source": [
        "data.describe()"
      ]
    },
    {
      "cell_type": "code",
      "execution_count": null,
      "metadata": {
        "colab": {
          "base_uri": "https://localhost:8080/"
        },
        "id": "3tFOlTB0EZFT",
        "outputId": "e919111c-bc7a-4a70-da85-13970a63e23c"
      },
      "outputs": [
        {
          "output_type": "stream",
          "name": "stdout",
          "text": [
            "<bound method Series.mode of 0      1.0\n",
            "1      1.0\n",
            "2      1.0\n",
            "3      1.0\n",
            "4      1.0\n",
            "      ... \n",
            "609    1.0\n",
            "610    1.0\n",
            "611    1.0\n",
            "612    1.0\n",
            "613    0.0\n",
            "Name: Credit_History, Length: 614, dtype: float64>\n",
            "<bound method Series.mode of 0      0.0\n",
            "1      1.0\n",
            "2      1.0\n",
            "3      1.0\n",
            "4      0.0\n",
            "      ... \n",
            "609    0.0\n",
            "610    1.0\n",
            "611    1.0\n",
            "612    1.0\n",
            "613    0.0\n",
            "Name: Married, Length: 614, dtype: float64>\n",
            "<bound method Series.mode of 0      0.0\n",
            "1      0.0\n",
            "2      1.0\n",
            "3      0.0\n",
            "4      0.0\n",
            "      ... \n",
            "609    0.0\n",
            "610    0.0\n",
            "611    0.0\n",
            "612    0.0\n",
            "613    1.0\n",
            "Name: Self_Employed, Length: 614, dtype: float64>\n"
          ]
        }
      ],
      "source": [
        "print(data['Credit_History'].mode)\n",
        "print(data['Married'].mode)\n",
        "print(data['Self_Employed'].mode)"
      ]
    },
    {
      "cell_type": "code",
      "execution_count": null,
      "metadata": {
        "id": "sCUN9q8F7DbJ"
      },
      "outputs": [],
      "source": [
        "#replacing nulls with mean or mode\n",
        "data['LoanAmount'].fillna(146.412162,inplace=True) \n",
        "data['Married'].fillna(0,inplace=True)\n",
        "data['Self_Employed'].fillna(0,inplace=True)\n",
        "data['Gender'].fillna(1,inplace=True)\n",
        "data['Loan_Amount_Term'].fillna(360.00000,inplace=True)\n",
        "data['Credit_History'].fillna(1,inplace=True)"
      ]
    },
    {
      "cell_type": "code",
      "execution_count": null,
      "metadata": {
        "colab": {
          "base_uri": "https://localhost:8080/"
        },
        "id": "DAXZBD4yE1vy",
        "outputId": "10de5fea-54db-4b49-a2be-b19b000e589a"
      },
      "outputs": [
        {
          "output_type": "stream",
          "name": "stdout",
          "text": [
            "Loan_ID                    0\n",
            "Gender                     0\n",
            "Married                    0\n",
            "Education                  0\n",
            "Self_Employed              0\n",
            "ApplicantIncome            0\n",
            "CoapplicantIncome          0\n",
            "LoanAmount                 0\n",
            "Loan_Amount_Term           0\n",
            "Credit_History             0\n",
            "Loan_Status                0\n",
            "Property_Area_Rural        0\n",
            "Property_Area_Semiurban    0\n",
            "Property_Area_Urban        0\n",
            "Dependents_0               0\n",
            "Dependents_1               0\n",
            "Dependents_2               0\n",
            "Dependents_3+              0\n",
            "dtype: int64\n"
          ]
        }
      ],
      "source": [
        "print (data.isnull().sum())"
      ]
    },
    {
      "cell_type": "code",
      "execution_count": null,
      "metadata": {
        "colab": {
          "base_uri": "https://localhost:8080/"
        },
        "id": "UGQ4jApWGjC3",
        "outputId": "6704f6b1-a160-49ee-9962-275b7ce08e4c"
      },
      "outputs": [
        {
          "output_type": "stream",
          "name": "stdout",
          "text": [
            "<class 'pandas.core.frame.DataFrame'>\n",
            "RangeIndex: 614 entries, 0 to 613\n",
            "Data columns (total 18 columns):\n",
            " #   Column                   Non-Null Count  Dtype  \n",
            "---  ------                   --------------  -----  \n",
            " 0   Loan_ID                  614 non-null    object \n",
            " 1   Gender                   614 non-null    float64\n",
            " 2   Married                  614 non-null    float64\n",
            " 3   Education                614 non-null    int64  \n",
            " 4   Self_Employed            614 non-null    float64\n",
            " 5   ApplicantIncome          614 non-null    int64  \n",
            " 6   CoapplicantIncome        614 non-null    float64\n",
            " 7   LoanAmount               614 non-null    float64\n",
            " 8   Loan_Amount_Term         614 non-null    float64\n",
            " 9   Credit_History           614 non-null    float64\n",
            " 10  Loan_Status              614 non-null    int64  \n",
            " 11  Property_Area_Rural      614 non-null    uint8  \n",
            " 12  Property_Area_Semiurban  614 non-null    uint8  \n",
            " 13  Property_Area_Urban      614 non-null    uint8  \n",
            " 14  Dependents_0             614 non-null    uint8  \n",
            " 15  Dependents_1             614 non-null    uint8  \n",
            " 16  Dependents_2             614 non-null    uint8  \n",
            " 17  Dependents_3+            614 non-null    uint8  \n",
            "dtypes: float64(7), int64(3), object(1), uint8(7)\n",
            "memory usage: 57.1+ KB\n"
          ]
        }
      ],
      "source": [
        "data.info()"
      ]
    },
    {
      "cell_type": "code",
      "execution_count": null,
      "metadata": {
        "id": "OzTP78xf5mWf"
      },
      "outputs": [],
      "source": [
        "#dropping loan id column as it is irrelevant / costing features \n",
        "# costing feature \n",
        "data.drop('Loan_ID', axis=1, inplace=True)"
      ]
    },
    {
      "cell_type": "code",
      "execution_count": null,
      "metadata": {
        "colab": {
          "base_uri": "https://localhost:8080/",
          "height": 619
        },
        "id": "J5tOUpQVghjP",
        "outputId": "84a70b3e-cdbf-49f1-f61a-347c5cc87874"
      },
      "outputs": [
        {
          "output_type": "execute_result",
          "data": {
            "text/plain": [
              "<Axes: >"
            ]
          },
          "metadata": {},
          "execution_count": 50
        },
        {
          "output_type": "display_data",
          "data": {
            "text/plain": [
              "<Figure size 640x480 with 2 Axes>"
            ],
            "image/png": "[encoded data removed]"
          },
          "metadata": {}
        }
      ],
      "source": [
        "#Create correlation matrix and visualize it\n",
        "corr_matrix = data.corr()\n",
        "sns.heatmap(corr_matrix, cmap='magma')"
      ]
    },
    {
      "cell_type": "code",
      "execution_count": null,
      "metadata": {
        "colab": {
          "base_uri": "https://localhost:8080/",
          "height": 637
        },
        "id": "5nPdIH5KhclZ",
        "outputId": "a0c616fe-47d2-4b6c-9d3c-cbbeebab93ce"
      },
      "outputs": [
        {
          "output_type": "stream",
          "name": "stderr",
          "text": [
            "<ipython-input-51-46866af64ca6>:3: FutureWarning: this method is deprecated in favour of `Styler.format(precision=..)`\n",
            "  corr_table.style.background_gradient(cmap='magma').set_precision(2)\n"
          ]
        },
        {
          "output_type": "execute_result",
          "data": {
            "text/plain": [
              "<pandas.io.formats.style.Styler at 0x7f137ca25300>"
            ],
            "text/html": [
              "<style type=\"text/css\">\n",
              "#T_5bf80_row0_col0, #T_5bf80_row1_col1, #T_5bf80_row2_col2, #T_5bf80_row3_col3, #T_5bf80_row4_col4, #T_5bf80_row5_col5, #T_5bf80_row6_col6, #T_5bf80_row7_col7, #T_5bf80_row8_col8, #T_5bf80_row9_col9, #T_5bf80_row10_col10, #T_5bf80_row11_col11, #T_5bf80_row12_col12, #T_5bf80_row13_col13, #T_5bf80_row14_col14, #T_5bf80_row15_col15, #T_5bf80_row16_col16 {\n",
              "  background-color: #fcfdbf;\n",
              "  color: #000000;\n",
              "}\n",
              "#T_5bf80_row0_col1 {\n",
              "  background-color: #c23b75;\n",
              "  color: #f1f1f1;\n",
              "}\n",
              "#T_5bf80_row0_col2, #T_5bf80_row10_col11 {\n",
              "  background-color: #03030f;\n",
              "  color: #f1f1f1;\n",
              "}\n",
              "#T_5bf80_row0_col3, #T_5bf80_row3_col2, #T_5bf80_row8_col3, #T_5bf80_row11_col5 {\n",
              "  background-color: #0e0b2b;\n",
              "  color: #f1f1f1;\n",
              "}\n",
              "#T_5bf80_row0_col4, #T_5bf80_row10_col6, #T_5bf80_row12_col0 {\n",
              "  background-color: #29115a;\n",
              "  color: #f1f1f1;\n",
              "}\n",
              "#T_5bf80_row0_col5, #T_5bf80_row1_col5, #T_5bf80_row4_col0, #T_5bf80_row7_col1 {\n",
              "  background-color: #311165;\n",
              "  color: #f1f1f1;\n",
              "}\n",
              "#T_5bf80_row0_col6, #T_5bf80_row3_col4, #T_5bf80_row11_col9 {\n",
              "  background-color: #420f75;\n",
              "  color: #f1f1f1;\n",
              "}\n",
              "#T_5bf80_row0_col7, #T_5bf80_row13_col4, #T_5bf80_row16_col7 {\n",
              "  background-color: #02020d;\n",
              "  color: #f1f1f1;\n",
              "}\n",
              "#T_5bf80_row0_col8, #T_5bf80_row1_col8, #T_5bf80_row3_col7, #T_5bf80_row5_col3, #T_5bf80_row7_col4, #T_5bf80_row10_col12, #T_5bf80_row14_col8, #T_5bf80_row15_col8 {\n",
              "  background-color: #0a0822;\n",
              "  color: #f1f1f1;\n",
              "}\n",
              "#T_5bf80_row0_col9, #T_5bf80_row1_col13, #T_5bf80_row10_col5, #T_5bf80_row11_col2, #T_5bf80_row16_col13 {\n",
              "  background-color: #160f3b;\n",
              "  color: #f1f1f1;\n",
              "}\n",
              "#T_5bf80_row0_col10, #T_5bf80_row3_col14 {\n",
              "  background-color: #882781;\n",
              "  color: #f1f1f1;\n",
              "}\n",
              "#T_5bf80_row0_col11, #T_5bf80_row2_col10, #T_5bf80_row5_col16, #T_5bf80_row10_col16 {\n",
              "  background-color: #5d177f;\n",
              "  color: #f1f1f1;\n",
              "}\n",
              "#T_5bf80_row0_col12, #T_5bf80_row2_col12, #T_5bf80_row6_col14, #T_5bf80_row8_col11, #T_5bf80_row9_col15, #T_5bf80_row10_col13 {\n",
              "  background-color: #832681;\n",
              "  color: #f1f1f1;\n",
              "}\n",
              "#T_5bf80_row0_col13, #T_5bf80_row2_col1, #T_5bf80_row15_col0 {\n",
              "  background-color: #4c117a;\n",
              "  color: #f1f1f1;\n",
              "}\n",
              "#T_5bf80_row0_col14, #T_5bf80_row1_col10, #T_5bf80_row3_col12, #T_5bf80_row6_col12 {\n",
              "  background-color: #721f81;\n",
              "  color: #f1f1f1;\n",
              "}\n",
              "#T_5bf80_row0_col15 {\n",
              "  background-color: #942c80;\n",
              "  color: #f1f1f1;\n",
              "}\n",
              "#T_5bf80_row0_col16, #T_5bf80_row7_col15, #T_5bf80_row9_col12, #T_5bf80_row11_col15 {\n",
              "  background-color: #6e1e81;\n",
              "  color: #f1f1f1;\n",
              "}\n",
              "#T_5bf80_row1_col0 {\n",
              "  background-color: #a02f7f;\n",
              "  color: #f1f1f1;\n",
              "}\n",
              "#T_5bf80_row1_col2, #T_5bf80_row3_col8, #T_5bf80_row6_col8, #T_5bf80_row6_col9, #T_5bf80_row14_col9 {\n",
              "  background-color: #08071e;\n",
              "  color: #f1f1f1;\n",
              "}\n",
              "#T_5bf80_row1_col3, #T_5bf80_row2_col0, #T_5bf80_row3_col9, #T_5bf80_row4_col9, #T_5bf80_row8_col4, #T_5bf80_row8_col7, #T_5bf80_row9_col6, #T_5bf80_row11_col3 {\n",
              "  background-color: #110c2f;\n",
              "  color: #f1f1f1;\n",
              "}\n",
              "#T_5bf80_row1_col4, #T_5bf80_row9_col2 {\n",
              "  background-color: #251255;\n",
              "  color: #f1f1f1;\n",
              "}\n",
              "#T_5bf80_row1_col6, #T_5bf80_row16_col14 {\n",
              "  background-color: #4f127b;\n",
              "  color: #f1f1f1;\n",
              "}\n",
              "#T_5bf80_row1_col7, #T_5bf80_row4_col5, #T_5bf80_row5_col4, #T_5bf80_row10_col2, #T_5bf80_row10_col9, #T_5bf80_row11_col10, #T_5bf80_row11_col12, #T_5bf80_row12_col11, #T_5bf80_row13_col0, #T_5bf80_row13_col1, #T_5bf80_row13_col3, #T_5bf80_row13_col6, #T_5bf80_row13_col14, #T_5bf80_row13_col15, #T_5bf80_row13_col16, #T_5bf80_row14_col13, #T_5bf80_row15_col13, #T_5bf80_row16_col8 {\n",
              "  background-color: #000004;\n",
              "  color: #f1f1f1;\n",
              "}\n",
              "#T_5bf80_row1_col9, #T_5bf80_row2_col9 {\n",
              "  background-color: #2d1161;\n",
              "  color: #f1f1f1;\n",
              "}\n",
              "#T_5bf80_row1_col11, #T_5bf80_row1_col12, #T_5bf80_row1_col16, #T_5bf80_row4_col12, #T_5bf80_row16_col1 {\n",
              "  background-color: #792282;\n",
              "  color: #f1f1f1;\n",
              "}\n",
              "#T_5bf80_row1_col14 {\n",
              "  background-color: #932b80;\n",
              "  color: #f1f1f1;\n",
              "}\n",
              "#T_5bf80_row1_col15 {\n",
              "  background-color: #b73779;\n",
              "  color: #f1f1f1;\n",
              "}\n",
              "#T_5bf80_row2_col3, #T_5bf80_row3_col5, #T_5bf80_row11_col4, #T_5bf80_row11_col8, #T_5bf80_row12_col6 {\n",
              "  background-color: #120d31;\n",
              "  color: #f1f1f1;\n",
              "}\n",
              "#T_5bf80_row2_col4 {\n",
              "  background-color: #491078;\n",
              "  color: #f1f1f1;\n",
              "}\n",
              "#T_5bf80_row2_col5, #T_5bf80_row2_col7 {\n",
              "  background-color: #2a115c;\n",
              "  color: #f1f1f1;\n",
              "}\n",
              "#T_5bf80_row2_col6, #T_5bf80_row9_col10 {\n",
              "  background-color: #57157e;\n",
              "  color: #f1f1f1;\n",
              "}\n",
              "#T_5bf80_row2_col8, #T_5bf80_row3_col0, #T_5bf80_row6_col7 {\n",
              "  background-color: #1d1147;\n",
              "  color: #f1f1f1;\n",
              "}\n",
              "#T_5bf80_row2_col11, #T_5bf80_row12_col14 {\n",
              "  background-color: #842681;\n",
              "  color: #f1f1f1;\n",
              "}\n",
              "#T_5bf80_row2_col13, #T_5bf80_row8_col13, #T_5bf80_row15_col12 {\n",
              "  background-color: #7e2482;\n",
              "  color: #f1f1f1;\n",
              "}\n",
              "#T_5bf80_row2_col14, #T_5bf80_row4_col10, #T_5bf80_row4_col11, #T_5bf80_row6_col15, #T_5bf80_row12_col15, #T_5bf80_row15_col11 {\n",
              "  background-color: #762181;\n",
              "  color: #f1f1f1;\n",
              "}\n",
              "#T_5bf80_row2_col15, #T_5bf80_row16_col12 {\n",
              "  background-color: #6d1d81;\n",
              "  color: #f1f1f1;\n",
              "}\n",
              "#T_5bf80_row2_col16 {\n",
              "  background-color: #400f74;\n",
              "  color: #f1f1f1;\n",
              "}\n",
              "#T_5bf80_row3_col1, #T_5bf80_row8_col1, #T_5bf80_row11_col16 {\n",
              "  background-color: #54137d;\n",
              "  color: #f1f1f1;\n",
              "}\n",
              "#T_5bf80_row3_col6, #T_5bf80_row6_col0, #T_5bf80_row12_col16 {\n",
              "  background-color: #440f76;\n",
              "  color: #f1f1f1;\n",
              "}\n",
              "#T_5bf80_row3_col10, #T_5bf80_row6_col11, #T_5bf80_row13_col11 {\n",
              "  background-color: #782281;\n",
              "  color: #f1f1f1;\n",
              "}\n",
              "#T_5bf80_row3_col11, #T_5bf80_row4_col14, #T_5bf80_row6_col1, #T_5bf80_row6_col10, #T_5bf80_row14_col11, #T_5bf80_row16_col10 {\n",
              "  background-color: #7c2382;\n",
              "  color: #f1f1f1;\n",
              "}\n",
              "#T_5bf80_row3_col13, #T_5bf80_row10_col14, #T_5bf80_row14_col10 {\n",
              "  background-color: #5c167f;\n",
              "  color: #f1f1f1;\n",
              "}\n",
              "#T_5bf80_row3_col15, #T_5bf80_row7_col10, #T_5bf80_row16_col11 {\n",
              "  background-color: #7b2382;\n",
              "  color: #f1f1f1;\n",
              "}\n",
              "#T_5bf80_row3_col16, #T_5bf80_row10_col1, #T_5bf80_row11_col1, #T_5bf80_row12_col1, #T_5bf80_row16_col6 {\n",
              "  background-color: #52137c;\n",
              "  color: #f1f1f1;\n",
              "}\n",
              "#T_5bf80_row4_col1, #T_5bf80_row7_col12 {\n",
              "  background-color: #601880;\n",
              "  color: #f1f1f1;\n",
              "}\n",
              "#T_5bf80_row4_col2, #T_5bf80_row14_col15 {\n",
              "  background-color: #3b0f70;\n",
              "  color: #f1f1f1;\n",
              "}\n",
              "#T_5bf80_row4_col3, #T_5bf80_row5_col0, #T_5bf80_row7_col16, #T_5bf80_row10_col0 {\n",
              "  background-color: #390f6e;\n",
              "  color: #f1f1f1;\n",
              "}\n",
              "#T_5bf80_row4_col6 {\n",
              "  background-color: #e44f64;\n",
              "  color: #f1f1f1;\n",
              "}\n",
              "#T_5bf80_row4_col7, #T_5bf80_row7_col5, #T_5bf80_row7_col8, #T_5bf80_row9_col5, #T_5bf80_row12_col3, #T_5bf80_row12_col9, #T_5bf80_row15_col2 {\n",
              "  background-color: #07061c;\n",
              "  color: #f1f1f1;\n",
              "}\n",
              "#T_5bf80_row4_col8, #T_5bf80_row5_col7, #T_5bf80_row12_col8 {\n",
              "  background-color: #050416;\n",
              "  color: #f1f1f1;\n",
              "}\n",
              "#T_5bf80_row4_col13, #T_5bf80_row7_col14 {\n",
              "  background-color: #5a167e;\n",
              "  color: #f1f1f1;\n",
              "}\n",
              "#T_5bf80_row4_col15, #T_5bf80_row9_col14 {\n",
              "  background-color: #681c81;\n",
              "  color: #f1f1f1;\n",
              "}\n",
              "#T_5bf80_row4_col16, #T_5bf80_row5_col12, #T_5bf80_row6_col16 {\n",
              "  background-color: #802582;\n",
              "  color: #f1f1f1;\n",
              "}\n",
              "#T_5bf80_row5_col1, #T_5bf80_row5_col14 {\n",
              "  background-color: #6a1c81;\n",
              "  color: #f1f1f1;\n",
              "}\n",
              "#T_5bf80_row5_col2 {\n",
              "  background-color: #1e1149;\n",
              "  color: #f1f1f1;\n",
              "}\n",
              "#T_5bf80_row5_col6 {\n",
              "  background-color: #5f187f;\n",
              "  color: #f1f1f1;\n",
              "}\n",
              "#T_5bf80_row5_col8, #T_5bf80_row16_col9 {\n",
              "  background-color: #0b0924;\n",
              "  color: #f1f1f1;\n",
              "}\n",
              "#T_5bf80_row5_col9, #T_5bf80_row10_col8 {\n",
              "  background-color: #040414;\n",
              "  color: #f1f1f1;\n",
              "}\n",
              "#T_5bf80_row5_col10, #T_5bf80_row5_col11, #T_5bf80_row5_col13, #T_5bf80_row8_col15 {\n",
              "  background-color: #732081;\n",
              "  color: #f1f1f1;\n",
              "}\n",
              "#T_5bf80_row5_col15, #T_5bf80_row8_col12, #T_5bf80_row8_col14, #T_5bf80_row9_col13, #T_5bf80_row11_col14, #T_5bf80_row14_col1 {\n",
              "  background-color: #752181;\n",
              "  color: #f1f1f1;\n",
              "}\n",
              "#T_5bf80_row6_col2 {\n",
              "  background-color: #471078;\n",
              "  color: #f1f1f1;\n",
              "}\n",
              "#T_5bf80_row6_col3 {\n",
              "  background-color: #341069;\n",
              "  color: #f1f1f1;\n",
              "}\n",
              "#T_5bf80_row6_col4 {\n",
              "  background-color: #e24d66;\n",
              "  color: #f1f1f1;\n",
              "}\n",
              "#T_5bf80_row6_col5 {\n",
              "  background-color: #59157e;\n",
              "  color: #f1f1f1;\n",
              "}\n",
              "#T_5bf80_row6_col13, #T_5bf80_row16_col4, #T_5bf80_row16_col15 {\n",
              "  background-color: #4e117b;\n",
              "  color: #f1f1f1;\n",
              "}\n",
              "#T_5bf80_row7_col0 {\n",
              "  background-color: #090720;\n",
              "  color: #f1f1f1;\n",
              "}\n",
              "#T_5bf80_row7_col2, #T_5bf80_row8_col2, #T_5bf80_row15_col6 {\n",
              "  background-color: #21114e;\n",
              "  color: #f1f1f1;\n",
              "}\n",
              "#T_5bf80_row7_col3 {\n",
              "  background-color: #06051a;\n",
              "  color: #f1f1f1;\n",
              "}\n",
              "#T_5bf80_row7_col6, #T_5bf80_row14_col3, #T_5bf80_row14_col16, #T_5bf80_row15_col16 {\n",
              "  background-color: #271258;\n",
              "  color: #f1f1f1;\n",
              "}\n",
              "#T_5bf80_row7_col9, #T_5bf80_row9_col7, #T_5bf80_row15_col4 {\n",
              "  background-color: #0c0926;\n",
              "  color: #f1f1f1;\n",
              "}\n",
              "#T_5bf80_row7_col11 {\n",
              "  background-color: #892881;\n",
              "  color: #f1f1f1;\n",
              "}\n",
              "#T_5bf80_row7_col13 {\n",
              "  background-color: #902a81;\n",
              "  color: #f1f1f1;\n",
              "}\n",
              "#T_5bf80_row8_col0 {\n",
              "  background-color: #20114b;\n",
              "  color: #f1f1f1;\n",
              "}\n",
              "#T_5bf80_row8_col5, #T_5bf80_row11_col6, #T_5bf80_row15_col5 {\n",
              "  background-color: #19103f;\n",
              "  color: #f1f1f1;\n",
              "}\n",
              "#T_5bf80_row8_col6, #T_5bf80_row10_col4 {\n",
              "  background-color: #1a1042;\n",
              "  color: #f1f1f1;\n",
              "}\n",
              "#T_5bf80_row8_col9 {\n",
              "  background-color: #d8456c;\n",
              "  color: #f1f1f1;\n",
              "}\n",
              "#T_5bf80_row8_col10, #T_5bf80_row9_col1, #T_5bf80_row13_col12 {\n",
              "  background-color: #6b1d81;\n",
              "  color: #f1f1f1;\n",
              "}\n",
              "#T_5bf80_row8_col16, #T_5bf80_row16_col0 {\n",
              "  background-color: #3f0f72;\n",
              "  color: #f1f1f1;\n",
              "}\n",
              "#T_5bf80_row9_col0, #T_5bf80_row14_col4, #T_5bf80_row16_col5 {\n",
              "  background-color: #221150;\n",
              "  color: #f1f1f1;\n",
              "}\n",
              "#T_5bf80_row9_col3, #T_5bf80_row14_col5 {\n",
              "  background-color: #0d0a29;\n",
              "  color: #f1f1f1;\n",
              "}\n",
              "#T_5bf80_row9_col4, #T_5bf80_row10_col3, #T_5bf80_row13_col8 {\n",
              "  background-color: #140e36;\n",
              "  color: #f1f1f1;\n",
              "}\n",
              "#T_5bf80_row9_col8 {\n",
              "  background-color: #d2426f;\n",
              "  color: #f1f1f1;\n",
              "}\n",
              "#T_5bf80_row9_col11, #T_5bf80_row15_col1 {\n",
              "  background-color: #9e2f7f;\n",
              "  color: #f1f1f1;\n",
              "}\n",
              "#T_5bf80_row9_col16 {\n",
              "  background-color: #4a1079;\n",
              "  color: #f1f1f1;\n",
              "}\n",
              "#T_5bf80_row10_col7, #T_5bf80_row12_col5, #T_5bf80_row14_col0 {\n",
              "  background-color: #1c1044;\n",
              "  color: #f1f1f1;\n",
              "}\n",
              "#T_5bf80_row10_col15, #T_5bf80_row11_col13, #T_5bf80_row15_col10 {\n",
              "  background-color: #701f81;\n",
              "  color: #f1f1f1;\n",
              "}\n",
              "#T_5bf80_row11_col0, #T_5bf80_row12_col10 {\n",
              "  background-color: #030312;\n",
              "  color: #f1f1f1;\n",
              "}\n",
              "#T_5bf80_row11_col7, #T_5bf80_row15_col9 {\n",
              "  background-color: #241253;\n",
              "  color: #f1f1f1;\n",
              "}\n",
              "#T_5bf80_row12_col2, #T_5bf80_row12_col4, #T_5bf80_row13_col5 {\n",
              "  background-color: #150e38;\n",
              "  color: #f1f1f1;\n",
              "}\n",
              "#T_5bf80_row12_col7 {\n",
              "  background-color: #010106;\n",
              "  color: #f1f1f1;\n",
              "}\n",
              "#T_5bf80_row12_col13 {\n",
              "  background-color: #651a80;\n",
              "  color: #f1f1f1;\n",
              "}\n",
              "#T_5bf80_row13_col2, #T_5bf80_row15_col3 {\n",
              "  background-color: #180f3d;\n",
              "  color: #f1f1f1;\n",
              "}\n",
              "#T_5bf80_row13_col7 {\n",
              "  background-color: #36106b;\n",
              "  color: #f1f1f1;\n",
              "}\n",
              "#T_5bf80_row13_col9 {\n",
              "  background-color: #130d34;\n",
              "  color: #f1f1f1;\n",
              "}\n",
              "#T_5bf80_row13_col10 {\n",
              "  background-color: #812581;\n",
              "  color: #f1f1f1;\n",
              "}\n",
              "#T_5bf80_row14_col2, #T_5bf80_row15_col7, #T_5bf80_row16_col3 {\n",
              "  background-color: #100b2d;\n",
              "  color: #f1f1f1;\n",
              "}\n",
              "#T_5bf80_row14_col6 {\n",
              "  background-color: #2f1163;\n",
              "  color: #f1f1f1;\n",
              "}\n",
              "#T_5bf80_row14_col7 {\n",
              "  background-color: #010108;\n",
              "  color: #f1f1f1;\n",
              "}\n",
              "#T_5bf80_row14_col12 {\n",
              "  background-color: #8c2981;\n",
              "  color: #f1f1f1;\n",
              "}\n",
              "#T_5bf80_row15_col14 {\n",
              "  background-color: #3d0f71;\n",
              "  color: #f1f1f1;\n",
              "}\n",
              "#T_5bf80_row16_col2 {\n",
              "  background-color: #02020b;\n",
              "  color: #f1f1f1;\n",
              "}\n",
              "</style>\n",
              "<table id=\"T_5bf80\" class=\"dataframe\">\n",
              "  <thead>\n",
              "    <tr>\n",
              "      <th class=\"blank level0\" >&nbsp;</th>\n",
              "      <th id=\"T_5bf80_level0_col0\" class=\"col_heading level0 col0\" >Gender</th>\n",
              "      <th id=\"T_5bf80_level0_col1\" class=\"col_heading level0 col1\" >Married</th>\n",
              "      <th id=\"T_5bf80_level0_col2\" class=\"col_heading level0 col2\" >Education</th>\n",
              "      <th id=\"T_5bf80_level0_col3\" class=\"col_heading level0 col3\" >Self_Employed</th>\n",
              "      <th id=\"T_5bf80_level0_col4\" class=\"col_heading level0 col4\" >ApplicantIncome</th>\n",
              "      <th id=\"T_5bf80_level0_col5\" class=\"col_heading level0 col5\" >CoapplicantIncome</th>\n",
              "      <th id=\"T_5bf80_level0_col6\" class=\"col_heading level0 col6\" >LoanAmount</th>\n",
              "      <th id=\"T_5bf80_level0_col7\" class=\"col_heading level0 col7\" >Loan_Amount_Term</th>\n",
              "      <th id=\"T_5bf80_level0_col8\" class=\"col_heading level0 col8\" >Credit_History</th>\n",
              "      <th id=\"T_5bf80_level0_col9\" class=\"col_heading level0 col9\" >Loan_Status</th>\n",
              "      <th id=\"T_5bf80_level0_col10\" class=\"col_heading level0 col10\" >Property_Area_Rural</th>\n",
              "      <th id=\"T_5bf80_level0_col11\" class=\"col_heading level0 col11\" >Property_Area_Semiurban</th>\n",
              "      <th id=\"T_5bf80_level0_col12\" class=\"col_heading level0 col12\" >Property_Area_Urban</th>\n",
              "      <th id=\"T_5bf80_level0_col13\" class=\"col_heading level0 col13\" >Dependents_0</th>\n",
              "      <th id=\"T_5bf80_level0_col14\" class=\"col_heading level0 col14\" >Dependents_1</th>\n",
              "      <th id=\"T_5bf80_level0_col15\" class=\"col_heading level0 col15\" >Dependents_2</th>\n",
              "      <th id=\"T_5bf80_level0_col16\" class=\"col_heading level0 col16\" >Dependents_3+</th>\n",
              "    </tr>\n",
              "  </thead>\n",
              "  <tbody>\n",
              "    <tr>\n",
              "      <th id=\"T_5bf80_level0_row0\" class=\"row_heading level0 row0\" >Gender</th>\n",
              "      <td id=\"T_5bf80_row0_col0\" class=\"data row0 col0\" >1.00</td>\n",
              "      <td id=\"T_5bf80_row0_col1\" class=\"data row0 col1\" >0.37</td>\n",
              "      <td id=\"T_5bf80_row0_col2\" class=\"data row0 col2\" >-0.05</td>\n",
              "      <td id=\"T_5bf80_row0_col3\" class=\"data row0 col3\" >-0.00</td>\n",
              "      <td id=\"T_5bf80_row0_col4\" class=\"data row0 col4\" >0.06</td>\n",
              "      <td id=\"T_5bf80_row0_col5\" class=\"data row0 col5\" >0.08</td>\n",
              "      <td id=\"T_5bf80_row0_col6\" class=\"data row0 col6\" >0.11</td>\n",
              "      <td id=\"T_5bf80_row0_col7\" class=\"data row0 col7\" >-0.07</td>\n",
              "      <td id=\"T_5bf80_row0_col8\" class=\"data row0 col8\" >0.01</td>\n",
              "      <td id=\"T_5bf80_row0_col9\" class=\"data row0 col9\" >0.02</td>\n",
              "      <td id=\"T_5bf80_row0_col10\" class=\"data row0 col10\" >0.08</td>\n",
              "      <td id=\"T_5bf80_row0_col11\" class=\"data row0 col11\" >-0.11</td>\n",
              "      <td id=\"T_5bf80_row0_col12\" class=\"data row0 col12\" >0.03</td>\n",
              "      <td id=\"T_5bf80_row0_col13\" class=\"data row0 col13\" >-0.15</td>\n",
              "      <td id=\"T_5bf80_row0_col14\" class=\"data row0 col14\" >-0.00</td>\n",
              "      <td id=\"T_5bf80_row0_col15\" class=\"data row0 col15\" >0.13</td>\n",
              "      <td id=\"T_5bf80_row0_col16\" class=\"data row0 col16\" >0.10</td>\n",
              "    </tr>\n",
              "    <tr>\n",
              "      <th id=\"T_5bf80_level0_row1\" class=\"row_heading level0 row1\" >Married</th>\n",
              "      <td id=\"T_5bf80_row1_col0\" class=\"data row1 col0\" >0.37</td>\n",
              "      <td id=\"T_5bf80_row1_col1\" class=\"data row1 col1\" >1.00</td>\n",
              "      <td id=\"T_5bf80_row1_col2\" class=\"data row1 col2\" >-0.02</td>\n",
              "      <td id=\"T_5bf80_row1_col3\" class=\"data row1 col3\" >0.01</td>\n",
              "      <td id=\"T_5bf80_row1_col4\" class=\"data row1 col4\" >0.05</td>\n",
              "      <td id=\"T_5bf80_row1_col5\" class=\"data row1 col5\" >0.08</td>\n",
              "      <td id=\"T_5bf80_row1_col6\" class=\"data row1 col6\" >0.15</td>\n",
              "      <td id=\"T_5bf80_row1_col7\" class=\"data row1 col7\" >-0.10</td>\n",
              "      <td id=\"T_5bf80_row1_col8\" class=\"data row1 col8\" >0.01</td>\n",
              "      <td id=\"T_5bf80_row1_col9\" class=\"data row1 col9\" >0.08</td>\n",
              "      <td id=\"T_5bf80_row1_col10\" class=\"data row1 col10\" >-0.00</td>\n",
              "      <td id=\"T_5bf80_row1_col11\" class=\"data row1 col11\" >-0.00</td>\n",
              "      <td id=\"T_5bf80_row1_col12\" class=\"data row1 col12\" >0.00</td>\n",
              "      <td id=\"T_5bf80_row1_col13\" class=\"data row1 col13\" >-0.34</td>\n",
              "      <td id=\"T_5bf80_row1_col14\" class=\"data row1 col14\" >0.12</td>\n",
              "      <td id=\"T_5bf80_row1_col15\" class=\"data row1 col15\" >0.25</td>\n",
              "      <td id=\"T_5bf80_row1_col16\" class=\"data row1 col16\" >0.14</td>\n",
              "    </tr>\n",
              "    <tr>\n",
              "      <th id=\"T_5bf80_level0_row2\" class=\"row_heading level0 row2\" >Education</th>\n",
              "      <td id=\"T_5bf80_row2_col0\" class=\"data row2 col0\" >-0.05</td>\n",
              "      <td id=\"T_5bf80_row2_col1\" class=\"data row2 col1\" >-0.02</td>\n",
              "      <td id=\"T_5bf80_row2_col2\" class=\"data row2 col2\" >1.00</td>\n",
              "      <td id=\"T_5bf80_row2_col3\" class=\"data row2 col3\" >0.01</td>\n",
              "      <td id=\"T_5bf80_row2_col4\" class=\"data row2 col4\" >0.14</td>\n",
              "      <td id=\"T_5bf80_row2_col5\" class=\"data row2 col5\" >0.06</td>\n",
              "      <td id=\"T_5bf80_row2_col6\" class=\"data row2 col6\" >0.17</td>\n",
              "      <td id=\"T_5bf80_row2_col7\" class=\"data row2 col7\" >0.07</td>\n",
              "      <td id=\"T_5bf80_row2_col8\" class=\"data row2 col8\" >0.07</td>\n",
              "      <td id=\"T_5bf80_row2_col9\" class=\"data row2 col9\" >0.09</td>\n",
              "      <td id=\"T_5bf80_row2_col10\" class=\"data row2 col10\" >-0.08</td>\n",
              "      <td id=\"T_5bf80_row2_col11\" class=\"data row2 col11\" >0.04</td>\n",
              "      <td id=\"T_5bf80_row2_col12\" class=\"data row2 col12\" >0.03</td>\n",
              "      <td id=\"T_5bf80_row2_col13\" class=\"data row2 col13\" >0.04</td>\n",
              "      <td id=\"T_5bf80_row2_col14\" class=\"data row2 col14\" >0.01</td>\n",
              "      <td id=\"T_5bf80_row2_col15\" class=\"data row2 col15\" >-0.02</td>\n",
              "      <td id=\"T_5bf80_row2_col16\" class=\"data row2 col16\" >-0.06</td>\n",
              "    </tr>\n",
              "    <tr>\n",
              "      <th id=\"T_5bf80_level0_row3\" class=\"row_heading level0 row3\" >Self_Employed</th>\n",
              "      <td id=\"T_5bf80_row3_col0\" class=\"data row3 col0\" >-0.00</td>\n",
              "      <td id=\"T_5bf80_row3_col1\" class=\"data row3 col1\" >0.01</td>\n",
              "      <td id=\"T_5bf80_row3_col2\" class=\"data row3 col2\" >0.01</td>\n",
              "      <td id=\"T_5bf80_row3_col3\" class=\"data row3 col3\" >1.00</td>\n",
              "      <td id=\"T_5bf80_row3_col4\" class=\"data row3 col4\" >0.13</td>\n",
              "      <td id=\"T_5bf80_row3_col5\" class=\"data row3 col5\" >-0.02</td>\n",
              "      <td id=\"T_5bf80_row3_col6\" class=\"data row3 col6\" >0.12</td>\n",
              "      <td id=\"T_5bf80_row3_col7\" class=\"data row3 col7\" >-0.03</td>\n",
              "      <td id=\"T_5bf80_row3_col8\" class=\"data row3 col8\" >-0.00</td>\n",
              "      <td id=\"T_5bf80_row3_col9\" class=\"data row3 col9\" >-0.00</td>\n",
              "      <td id=\"T_5bf80_row3_col10\" class=\"data row3 col10\" >0.02</td>\n",
              "      <td id=\"T_5bf80_row3_col11\" class=\"data row3 col11\" >0.01</td>\n",
              "      <td id=\"T_5bf80_row3_col12\" class=\"data row3 col12\" >-0.03</td>\n",
              "      <td id=\"T_5bf80_row3_col13\" class=\"data row3 col13\" >-0.09</td>\n",
              "      <td id=\"T_5bf80_row3_col14\" class=\"data row3 col14\" >0.08</td>\n",
              "      <td id=\"T_5bf80_row3_col15\" class=\"data row3 col15\" >0.03</td>\n",
              "      <td id=\"T_5bf80_row3_col16\" class=\"data row3 col16\" >0.00</td>\n",
              "    </tr>\n",
              "    <tr>\n",
              "      <th id=\"T_5bf80_level0_row4\" class=\"row_heading level0 row4\" >ApplicantIncome</th>\n",
              "      <td id=\"T_5bf80_row4_col0\" class=\"data row4 col0\" >0.06</td>\n",
              "      <td id=\"T_5bf80_row4_col1\" class=\"data row4 col1\" >0.05</td>\n",
              "      <td id=\"T_5bf80_row4_col2\" class=\"data row4 col2\" >0.14</td>\n",
              "      <td id=\"T_5bf80_row4_col3\" class=\"data row4 col3\" >0.13</td>\n",
              "      <td id=\"T_5bf80_row4_col4\" class=\"data row4 col4\" >1.00</td>\n",
              "      <td id=\"T_5bf80_row4_col5\" class=\"data row4 col5\" >-0.12</td>\n",
              "      <td id=\"T_5bf80_row4_col6\" class=\"data row4 col6\" >0.57</td>\n",
              "      <td id=\"T_5bf80_row4_col7\" class=\"data row4 col7\" >-0.05</td>\n",
              "      <td id=\"T_5bf80_row4_col8\" class=\"data row4 col8\" >-0.02</td>\n",
              "      <td id=\"T_5bf80_row4_col9\" class=\"data row4 col9\" >-0.00</td>\n",
              "      <td id=\"T_5bf80_row4_col10\" class=\"data row4 col10\" >0.02</td>\n",
              "      <td id=\"T_5bf80_row4_col11\" class=\"data row4 col11\" >-0.01</td>\n",
              "      <td id=\"T_5bf80_row4_col12\" class=\"data row4 col12\" >-0.00</td>\n",
              "      <td id=\"T_5bf80_row4_col13\" class=\"data row4 col13\" >-0.09</td>\n",
              "      <td id=\"T_5bf80_row4_col14\" class=\"data row4 col14\" >0.04</td>\n",
              "      <td id=\"T_5bf80_row4_col15\" class=\"data row4 col15\" >-0.03</td>\n",
              "      <td id=\"T_5bf80_row4_col16\" class=\"data row4 col16\" >0.16</td>\n",
              "    </tr>\n",
              "    <tr>\n",
              "      <th id=\"T_5bf80_level0_row5\" class=\"row_heading level0 row5\" >CoapplicantIncome</th>\n",
              "      <td id=\"T_5bf80_row5_col0\" class=\"data row5 col0\" >0.08</td>\n",
              "      <td id=\"T_5bf80_row5_col1\" class=\"data row5 col1\" >0.08</td>\n",
              "      <td id=\"T_5bf80_row5_col2\" class=\"data row5 col2\" >0.06</td>\n",
              "      <td id=\"T_5bf80_row5_col3\" class=\"data row5 col3\" >-0.02</td>\n",
              "      <td id=\"T_5bf80_row5_col4\" class=\"data row5 col4\" >-0.12</td>\n",
              "      <td id=\"T_5bf80_row5_col5\" class=\"data row5 col5\" >1.00</td>\n",
              "      <td id=\"T_5bf80_row5_col6\" class=\"data row5 col6\" >0.19</td>\n",
              "      <td id=\"T_5bf80_row5_col7\" class=\"data row5 col7\" >-0.06</td>\n",
              "      <td id=\"T_5bf80_row5_col8\" class=\"data row5 col8\" >0.01</td>\n",
              "      <td id=\"T_5bf80_row5_col9\" class=\"data row5 col9\" >-0.06</td>\n",
              "      <td id=\"T_5bf80_row5_col10\" class=\"data row5 col10\" >0.01</td>\n",
              "      <td id=\"T_5bf80_row5_col11\" class=\"data row5 col11\" >-0.03</td>\n",
              "      <td id=\"T_5bf80_row5_col12\" class=\"data row5 col12\" >0.02</td>\n",
              "      <td id=\"T_5bf80_row5_col13\" class=\"data row5 col13\" >0.00</td>\n",
              "      <td id=\"T_5bf80_row5_col14\" class=\"data row5 col14\" >-0.03</td>\n",
              "      <td id=\"T_5bf80_row5_col15\" class=\"data row5 col15\" >0.01</td>\n",
              "      <td id=\"T_5bf80_row5_col16\" class=\"data row5 col16\" >0.04</td>\n",
              "    </tr>\n",
              "    <tr>\n",
              "      <th id=\"T_5bf80_level0_row6\" class=\"row_heading level0 row6\" >LoanAmount</th>\n",
              "      <td id=\"T_5bf80_row6_col0\" class=\"data row6 col0\" >0.11</td>\n",
              "      <td id=\"T_5bf80_row6_col1\" class=\"data row6 col1\" >0.15</td>\n",
              "      <td id=\"T_5bf80_row6_col2\" class=\"data row6 col2\" >0.17</td>\n",
              "      <td id=\"T_5bf80_row6_col3\" class=\"data row6 col3\" >0.12</td>\n",
              "      <td id=\"T_5bf80_row6_col4\" class=\"data row6 col4\" >0.57</td>\n",
              "      <td id=\"T_5bf80_row6_col5\" class=\"data row6 col5\" >0.19</td>\n",
              "      <td id=\"T_5bf80_row6_col6\" class=\"data row6 col6\" >1.00</td>\n",
              "      <td id=\"T_5bf80_row6_col7\" class=\"data row6 col7\" >0.04</td>\n",
              "      <td id=\"T_5bf80_row6_col8\" class=\"data row6 col8\" >-0.00</td>\n",
              "      <td id=\"T_5bf80_row6_col9\" class=\"data row6 col9\" >-0.04</td>\n",
              "      <td id=\"T_5bf80_row6_col10\" class=\"data row6 col10\" >0.04</td>\n",
              "      <td id=\"T_5bf80_row6_col11\" class=\"data row6 col11\" >-0.01</td>\n",
              "      <td id=\"T_5bf80_row6_col12\" class=\"data row6 col12\" >-0.03</td>\n",
              "      <td id=\"T_5bf80_row6_col13\" class=\"data row6 col13\" >-0.14</td>\n",
              "      <td id=\"T_5bf80_row6_col14\" class=\"data row6 col14\" >0.06</td>\n",
              "      <td id=\"T_5bf80_row6_col15\" class=\"data row6 col15\" >0.02</td>\n",
              "      <td id=\"T_5bf80_row6_col16\" class=\"data row6 col16\" >0.15</td>\n",
              "    </tr>\n",
              "    <tr>\n",
              "      <th id=\"T_5bf80_level0_row7\" class=\"row_heading level0 row7\" >Loan_Amount_Term</th>\n",
              "      <td id=\"T_5bf80_row7_col0\" class=\"data row7 col0\" >-0.07</td>\n",
              "      <td id=\"T_5bf80_row7_col1\" class=\"data row7 col1\" >-0.10</td>\n",
              "      <td id=\"T_5bf80_row7_col2\" class=\"data row7 col2\" >0.07</td>\n",
              "      <td id=\"T_5bf80_row7_col3\" class=\"data row7 col3\" >-0.03</td>\n",
              "      <td id=\"T_5bf80_row7_col4\" class=\"data row7 col4\" >-0.05</td>\n",
              "      <td id=\"T_5bf80_row7_col5\" class=\"data row7 col5\" >-0.06</td>\n",
              "      <td id=\"T_5bf80_row7_col6\" class=\"data row7 col6\" >0.04</td>\n",
              "      <td id=\"T_5bf80_row7_col7\" class=\"data row7 col7\" >1.00</td>\n",
              "      <td id=\"T_5bf80_row7_col8\" class=\"data row7 col8\" >-0.00</td>\n",
              "      <td id=\"T_5bf80_row7_col9\" class=\"data row7 col9\" >-0.02</td>\n",
              "      <td id=\"T_5bf80_row7_col10\" class=\"data row7 col10\" >0.03</td>\n",
              "      <td id=\"T_5bf80_row7_col11\" class=\"data row7 col11\" >0.06</td>\n",
              "      <td id=\"T_5bf80_row7_col12\" class=\"data row7 col12\" >-0.09</td>\n",
              "      <td id=\"T_5bf80_row7_col13\" class=\"data row7 col13\" >0.11</td>\n",
              "      <td id=\"T_5bf80_row7_col14\" class=\"data row7 col14\" >-0.09</td>\n",
              "      <td id=\"T_5bf80_row7_col15\" class=\"data row7 col15\" >-0.01</td>\n",
              "      <td id=\"T_5bf80_row7_col16\" class=\"data row7 col16\" >-0.08</td>\n",
              "    </tr>\n",
              "    <tr>\n",
              "      <th id=\"T_5bf80_level0_row8\" class=\"row_heading level0 row8\" >Credit_History</th>\n",
              "      <td id=\"T_5bf80_row8_col0\" class=\"data row8 col0\" >0.01</td>\n",
              "      <td id=\"T_5bf80_row8_col1\" class=\"data row8 col1\" >0.01</td>\n",
              "      <td id=\"T_5bf80_row8_col2\" class=\"data row8 col2\" >0.07</td>\n",
              "      <td id=\"T_5bf80_row8_col3\" class=\"data row8 col3\" >-0.00</td>\n",
              "      <td id=\"T_5bf80_row8_col4\" class=\"data row8 col4\" >-0.02</td>\n",
              "      <td id=\"T_5bf80_row8_col5\" class=\"data row8 col5\" >0.01</td>\n",
              "      <td id=\"T_5bf80_row8_col6\" class=\"data row8 col6\" >-0.00</td>\n",
              "      <td id=\"T_5bf80_row8_col7\" class=\"data row8 col7\" >-0.00</td>\n",
              "      <td id=\"T_5bf80_row8_col8\" class=\"data row8 col8\" >1.00</td>\n",
              "      <td id=\"T_5bf80_row8_col9\" class=\"data row8 col9\" >0.54</td>\n",
              "      <td id=\"T_5bf80_row8_col10\" class=\"data row8 col10\" >-0.02</td>\n",
              "      <td id=\"T_5bf80_row8_col11\" class=\"data row8 col11\" >0.04</td>\n",
              "      <td id=\"T_5bf80_row8_col12\" class=\"data row8 col12\" >-0.02</td>\n",
              "      <td id=\"T_5bf80_row8_col13\" class=\"data row8 col13\" >0.05</td>\n",
              "      <td id=\"T_5bf80_row8_col14\" class=\"data row8 col14\" >0.01</td>\n",
              "      <td id=\"T_5bf80_row8_col15\" class=\"data row8 col15\" >0.01</td>\n",
              "      <td id=\"T_5bf80_row8_col16\" class=\"data row8 col16\" >-0.06</td>\n",
              "    </tr>\n",
              "    <tr>\n",
              "      <th id=\"T_5bf80_level0_row9\" class=\"row_heading level0 row9\" >Loan_Status</th>\n",
              "      <td id=\"T_5bf80_row9_col0\" class=\"data row9 col0\" >0.02</td>\n",
              "      <td id=\"T_5bf80_row9_col1\" class=\"data row9 col1\" >0.08</td>\n",
              "      <td id=\"T_5bf80_row9_col2\" class=\"data row9 col2\" >0.09</td>\n",
              "      <td id=\"T_5bf80_row9_col3\" class=\"data row9 col3\" >-0.00</td>\n",
              "      <td id=\"T_5bf80_row9_col4\" class=\"data row9 col4\" >-0.00</td>\n",
              "      <td id=\"T_5bf80_row9_col5\" class=\"data row9 col5\" >-0.06</td>\n",
              "      <td id=\"T_5bf80_row9_col6\" class=\"data row9 col6\" >-0.04</td>\n",
              "      <td id=\"T_5bf80_row9_col7\" class=\"data row9 col7\" >-0.02</td>\n",
              "      <td id=\"T_5bf80_row9_col8\" class=\"data row9 col8\" >0.54</td>\n",
              "      <td id=\"T_5bf80_row9_col9\" class=\"data row9 col9\" >1.00</td>\n",
              "      <td id=\"T_5bf80_row9_col10\" class=\"data row9 col10\" >-0.10</td>\n",
              "      <td id=\"T_5bf80_row9_col11\" class=\"data row9 col11\" >0.14</td>\n",
              "      <td id=\"T_5bf80_row9_col12\" class=\"data row9 col12\" >-0.04</td>\n",
              "      <td id=\"T_5bf80_row9_col13\" class=\"data row9 col13\" >0.01</td>\n",
              "      <td id=\"T_5bf80_row9_col14\" class=\"data row9 col14\" >-0.04</td>\n",
              "      <td id=\"T_5bf80_row9_col15\" class=\"data row9 col15\" >0.06</td>\n",
              "      <td id=\"T_5bf80_row9_col16\" class=\"data row9 col16\" >-0.03</td>\n",
              "    </tr>\n",
              "    <tr>\n",
              "      <th id=\"T_5bf80_level0_row10\" class=\"row_heading level0 row10\" >Property_Area_Rural</th>\n",
              "      <td id=\"T_5bf80_row10_col0\" class=\"data row10 col0\" >0.08</td>\n",
              "      <td id=\"T_5bf80_row10_col1\" class=\"data row10 col1\" >-0.00</td>\n",
              "      <td id=\"T_5bf80_row10_col2\" class=\"data row10 col2\" >-0.08</td>\n",
              "      <td id=\"T_5bf80_row10_col3\" class=\"data row10 col3\" >0.02</td>\n",
              "      <td id=\"T_5bf80_row10_col4\" class=\"data row10 col4\" >0.02</td>\n",
              "      <td id=\"T_5bf80_row10_col5\" class=\"data row10 col5\" >0.01</td>\n",
              "      <td id=\"T_5bf80_row10_col6\" class=\"data row10 col6\" >0.04</td>\n",
              "      <td id=\"T_5bf80_row10_col7\" class=\"data row10 col7\" >0.03</td>\n",
              "      <td id=\"T_5bf80_row10_col8\" class=\"data row10 col8\" >-0.02</td>\n",
              "      <td id=\"T_5bf80_row10_col9\" class=\"data row10 col9\" >-0.10</td>\n",
              "      <td id=\"T_5bf80_row10_col10\" class=\"data row10 col10\" >1.00</td>\n",
              "      <td id=\"T_5bf80_row10_col11\" class=\"data row10 col11\" >-0.50</td>\n",
              "      <td id=\"T_5bf80_row10_col12\" class=\"data row10 col12\" >-0.45</td>\n",
              "      <td id=\"T_5bf80_row10_col13\" class=\"data row10 col13\" >0.06</td>\n",
              "      <td id=\"T_5bf80_row10_col14\" class=\"data row10 col14\" >-0.08</td>\n",
              "      <td id=\"T_5bf80_row10_col15\" class=\"data row10 col15\" >-0.00</td>\n",
              "      <td id=\"T_5bf80_row10_col16\" class=\"data row10 col16\" >0.04</td>\n",
              "    </tr>\n",
              "    <tr>\n",
              "      <th id=\"T_5bf80_level0_row11\" class=\"row_heading level0 row11\" >Property_Area_Semiurban</th>\n",
              "      <td id=\"T_5bf80_row11_col0\" class=\"data row11 col0\" >-0.11</td>\n",
              "      <td id=\"T_5bf80_row11_col1\" class=\"data row11 col1\" >-0.00</td>\n",
              "      <td id=\"T_5bf80_row11_col2\" class=\"data row11 col2\" >0.04</td>\n",
              "      <td id=\"T_5bf80_row11_col3\" class=\"data row11 col3\" >0.01</td>\n",
              "      <td id=\"T_5bf80_row11_col4\" class=\"data row11 col4\" >-0.01</td>\n",
              "      <td id=\"T_5bf80_row11_col5\" class=\"data row11 col5\" >-0.03</td>\n",
              "      <td id=\"T_5bf80_row11_col6\" class=\"data row11 col6\" >-0.01</td>\n",
              "      <td id=\"T_5bf80_row11_col7\" class=\"data row11 col7\" >0.06</td>\n",
              "      <td id=\"T_5bf80_row11_col8\" class=\"data row11 col8\" >0.04</td>\n",
              "      <td id=\"T_5bf80_row11_col9\" class=\"data row11 col9\" >0.14</td>\n",
              "      <td id=\"T_5bf80_row11_col10\" class=\"data row11 col10\" >-0.50</td>\n",
              "      <td id=\"T_5bf80_row11_col11\" class=\"data row11 col11\" >1.00</td>\n",
              "      <td id=\"T_5bf80_row11_col12\" class=\"data row11 col12\" >-0.55</td>\n",
              "      <td id=\"T_5bf80_row11_col13\" class=\"data row11 col13\" >-0.01</td>\n",
              "      <td id=\"T_5bf80_row11_col14\" class=\"data row11 col14\" >0.01</td>\n",
              "      <td id=\"T_5bf80_row11_col15\" class=\"data row11 col15\" >-0.01</td>\n",
              "      <td id=\"T_5bf80_row11_col16\" class=\"data row11 col16\" >0.01</td>\n",
              "    </tr>\n",
              "    <tr>\n",
              "      <th id=\"T_5bf80_level0_row12\" class=\"row_heading level0 row12\" >Property_Area_Urban</th>\n",
              "      <td id=\"T_5bf80_row12_col0\" class=\"data row12 col0\" >0.03</td>\n",
              "      <td id=\"T_5bf80_row12_col1\" class=\"data row12 col1\" >0.00</td>\n",
              "      <td id=\"T_5bf80_row12_col2\" class=\"data row12 col2\" >0.03</td>\n",
              "      <td id=\"T_5bf80_row12_col3\" class=\"data row12 col3\" >-0.03</td>\n",
              "      <td id=\"T_5bf80_row12_col4\" class=\"data row12 col4\" >-0.00</td>\n",
              "      <td id=\"T_5bf80_row12_col5\" class=\"data row12 col5\" >0.02</td>\n",
              "      <td id=\"T_5bf80_row12_col6\" class=\"data row12 col6\" >-0.03</td>\n",
              "      <td id=\"T_5bf80_row12_col7\" class=\"data row12 col7\" >-0.09</td>\n",
              "      <td id=\"T_5bf80_row12_col8\" class=\"data row12 col8\" >-0.02</td>\n",
              "      <td id=\"T_5bf80_row12_col9\" class=\"data row12 col9\" >-0.04</td>\n",
              "      <td id=\"T_5bf80_row12_col10\" class=\"data row12 col10\" >-0.45</td>\n",
              "      <td id=\"T_5bf80_row12_col11\" class=\"data row12 col11\" >-0.55</td>\n",
              "      <td id=\"T_5bf80_row12_col12\" class=\"data row12 col12\" >1.00</td>\n",
              "      <td id=\"T_5bf80_row12_col13\" class=\"data row12 col13\" >-0.05</td>\n",
              "      <td id=\"T_5bf80_row12_col14\" class=\"data row12 col14\" >0.07</td>\n",
              "      <td id=\"T_5bf80_row12_col15\" class=\"data row12 col15\" >0.02</td>\n",
              "      <td id=\"T_5bf80_row12_col16\" class=\"data row12 col16\" >-0.05</td>\n",
              "    </tr>\n",
              "    <tr>\n",
              "      <th id=\"T_5bf80_level0_row13\" class=\"row_heading level0 row13\" >Dependents_0</th>\n",
              "      <td id=\"T_5bf80_row13_col0\" class=\"data row13 col0\" >-0.15</td>\n",
              "      <td id=\"T_5bf80_row13_col1\" class=\"data row13 col1\" >-0.34</td>\n",
              "      <td id=\"T_5bf80_row13_col2\" class=\"data row13 col2\" >0.04</td>\n",
              "      <td id=\"T_5bf80_row13_col3\" class=\"data row13 col3\" >-0.09</td>\n",
              "      <td id=\"T_5bf80_row13_col4\" class=\"data row13 col4\" >-0.09</td>\n",
              "      <td id=\"T_5bf80_row13_col5\" class=\"data row13 col5\" >0.00</td>\n",
              "      <td id=\"T_5bf80_row13_col6\" class=\"data row13 col6\" >-0.14</td>\n",
              "      <td id=\"T_5bf80_row13_col7\" class=\"data row13 col7\" >0.11</td>\n",
              "      <td id=\"T_5bf80_row13_col8\" class=\"data row13 col8\" >0.05</td>\n",
              "      <td id=\"T_5bf80_row13_col9\" class=\"data row13 col9\" >0.01</td>\n",
              "      <td id=\"T_5bf80_row13_col10\" class=\"data row13 col10\" >0.06</td>\n",
              "      <td id=\"T_5bf80_row13_col11\" class=\"data row13 col11\" >-0.01</td>\n",
              "      <td id=\"T_5bf80_row13_col12\" class=\"data row13 col12\" >-0.05</td>\n",
              "      <td id=\"T_5bf80_row13_col13\" class=\"data row13 col13\" >1.00</td>\n",
              "      <td id=\"T_5bf80_row13_col14\" class=\"data row13 col14\" >-0.51</td>\n",
              "      <td id=\"T_5bf80_row13_col15\" class=\"data row13 col15\" >-0.50</td>\n",
              "      <td id=\"T_5bf80_row13_col16\" class=\"data row13 col16\" >-0.34</td>\n",
              "    </tr>\n",
              "    <tr>\n",
              "      <th id=\"T_5bf80_level0_row14\" class=\"row_heading level0 row14\" >Dependents_1</th>\n",
              "      <td id=\"T_5bf80_row14_col0\" class=\"data row14 col0\" >-0.00</td>\n",
              "      <td id=\"T_5bf80_row14_col1\" class=\"data row14 col1\" >0.12</td>\n",
              "      <td id=\"T_5bf80_row14_col2\" class=\"data row14 col2\" >0.01</td>\n",
              "      <td id=\"T_5bf80_row14_col3\" class=\"data row14 col3\" >0.08</td>\n",
              "      <td id=\"T_5bf80_row14_col4\" class=\"data row14 col4\" >0.04</td>\n",
              "      <td id=\"T_5bf80_row14_col5\" class=\"data row14 col5\" >-0.03</td>\n",
              "      <td id=\"T_5bf80_row14_col6\" class=\"data row14 col6\" >0.06</td>\n",
              "      <td id=\"T_5bf80_row14_col7\" class=\"data row14 col7\" >-0.09</td>\n",
              "      <td id=\"T_5bf80_row14_col8\" class=\"data row14 col8\" >0.01</td>\n",
              "      <td id=\"T_5bf80_row14_col9\" class=\"data row14 col9\" >-0.04</td>\n",
              "      <td id=\"T_5bf80_row14_col10\" class=\"data row14 col10\" >-0.08</td>\n",
              "      <td id=\"T_5bf80_row14_col11\" class=\"data row14 col11\" >0.01</td>\n",
              "      <td id=\"T_5bf80_row14_col12\" class=\"data row14 col12\" >0.07</td>\n",
              "      <td id=\"T_5bf80_row14_col13\" class=\"data row14 col13\" >-0.51</td>\n",
              "      <td id=\"T_5bf80_row14_col14\" class=\"data row14 col14\" >1.00</td>\n",
              "      <td id=\"T_5bf80_row14_col15\" class=\"data row14 col15\" >-0.20</td>\n",
              "      <td id=\"T_5bf80_row14_col16\" class=\"data row14 col16\" >-0.13</td>\n",
              "    </tr>\n",
              "    <tr>\n",
              "      <th id=\"T_5bf80_level0_row15\" class=\"row_heading level0 row15\" >Dependents_2</th>\n",
              "      <td id=\"T_5bf80_row15_col0\" class=\"data row15 col0\" >0.13</td>\n",
              "      <td id=\"T_5bf80_row15_col1\" class=\"data row15 col1\" >0.25</td>\n",
              "      <td id=\"T_5bf80_row15_col2\" class=\"data row15 col2\" >-0.02</td>\n",
              "      <td id=\"T_5bf80_row15_col3\" class=\"data row15 col3\" >0.03</td>\n",
              "      <td id=\"T_5bf80_row15_col4\" class=\"data row15 col4\" >-0.03</td>\n",
              "      <td id=\"T_5bf80_row15_col5\" class=\"data row15 col5\" >0.01</td>\n",
              "      <td id=\"T_5bf80_row15_col6\" class=\"data row15 col6\" >0.02</td>\n",
              "      <td id=\"T_5bf80_row15_col7\" class=\"data row15 col7\" >-0.01</td>\n",
              "      <td id=\"T_5bf80_row15_col8\" class=\"data row15 col8\" >0.01</td>\n",
              "      <td id=\"T_5bf80_row15_col9\" class=\"data row15 col9\" >0.06</td>\n",
              "      <td id=\"T_5bf80_row15_col10\" class=\"data row15 col10\" >-0.00</td>\n",
              "      <td id=\"T_5bf80_row15_col11\" class=\"data row15 col11\" >-0.01</td>\n",
              "      <td id=\"T_5bf80_row15_col12\" class=\"data row15 col12\" >0.02</td>\n",
              "      <td id=\"T_5bf80_row15_col13\" class=\"data row15 col13\" >-0.50</td>\n",
              "      <td id=\"T_5bf80_row15_col14\" class=\"data row15 col14\" >-0.20</td>\n",
              "      <td id=\"T_5bf80_row15_col15\" class=\"data row15 col15\" >1.00</td>\n",
              "      <td id=\"T_5bf80_row15_col16\" class=\"data row15 col16\" >-0.13</td>\n",
              "    </tr>\n",
              "    <tr>\n",
              "      <th id=\"T_5bf80_level0_row16\" class=\"row_heading level0 row16\" >Dependents_3+</th>\n",
              "      <td id=\"T_5bf80_row16_col0\" class=\"data row16 col0\" >0.10</td>\n",
              "      <td id=\"T_5bf80_row16_col1\" class=\"data row16 col1\" >0.14</td>\n",
              "      <td id=\"T_5bf80_row16_col2\" class=\"data row16 col2\" >-0.06</td>\n",
              "      <td id=\"T_5bf80_row16_col3\" class=\"data row16 col3\" >0.00</td>\n",
              "      <td id=\"T_5bf80_row16_col4\" class=\"data row16 col4\" >0.16</td>\n",
              "      <td id=\"T_5bf80_row16_col5\" class=\"data row16 col5\" >0.04</td>\n",
              "      <td id=\"T_5bf80_row16_col6\" class=\"data row16 col6\" >0.15</td>\n",
              "      <td id=\"T_5bf80_row16_col7\" class=\"data row16 col7\" >-0.08</td>\n",
              "      <td id=\"T_5bf80_row16_col8\" class=\"data row16 col8\" >-0.06</td>\n",
              "      <td id=\"T_5bf80_row16_col9\" class=\"data row16 col9\" >-0.03</td>\n",
              "      <td id=\"T_5bf80_row16_col10\" class=\"data row16 col10\" >0.04</td>\n",
              "      <td id=\"T_5bf80_row16_col11\" class=\"data row16 col11\" >0.01</td>\n",
              "      <td id=\"T_5bf80_row16_col12\" class=\"data row16 col12\" >-0.05</td>\n",
              "      <td id=\"T_5bf80_row16_col13\" class=\"data row16 col13\" >-0.34</td>\n",
              "      <td id=\"T_5bf80_row16_col14\" class=\"data row16 col14\" >-0.13</td>\n",
              "      <td id=\"T_5bf80_row16_col15\" class=\"data row16 col15\" >-0.13</td>\n",
              "      <td id=\"T_5bf80_row16_col16\" class=\"data row16 col16\" >1.00</td>\n",
              "    </tr>\n",
              "  </tbody>\n",
              "</table>\n"
            ]
          },
          "metadata": {},
          "execution_count": 51
        }
      ],
      "source": [
        "#Correlation table\n",
        "corr_table = data.corr()\n",
        "corr_table.style.background_gradient(cmap='magma').set_precision(2)"
      ]
    },
    {
      "cell_type": "markdown",
      "source": [
        "Checking for outliers"
      ],
      "metadata": {
        "id": "kDLb0aJjunte"
      }
    },
    {
      "cell_type": "code",
      "execution_count": null,
      "metadata": {
        "colab": {
          "base_uri": "https://localhost:8080/",
          "height": 447
        },
        "id": "1qjI_GLA6Uwf",
        "outputId": "8b65a216-19e6-41f5-cff2-cbfa135b3dca"
      },
      "outputs": [
        {
          "output_type": "execute_result",
          "data": {
            "text/plain": [
              "<Axes: >"
            ]
          },
          "metadata": {},
          "execution_count": 52
        },
        {
          "output_type": "display_data",
          "data": {
            "text/plain": [
              "<Figure size 640x480 with 1 Axes>"
            ],
            "image/png": "[encoded data removed]"
          },
          "metadata": {}
        }
      ],
      "source": [
        "sns.boxplot(data=data, palette='rainbow', orient='h')"
      ]
    },
    {
      "cell_type": "markdown",
      "metadata": {
        "id": "4dbkVfwLIUyv"
      },
      "source": [
        "We noticed presence of outliers in \"ApplicantIncome\" and \"CoapplicantIncome\" columns"
      ]
    },
    {
      "cell_type": "code",
      "execution_count": null,
      "metadata": {
        "colab": {
          "base_uri": "https://localhost:8080/"
        },
        "id": "7usWPmnfIYz7",
        "outputId": "7a8e76d8-9791-44db-9976-b9b1e62fcc35"
      },
      "outputs": [
        {
          "output_type": "stream",
          "name": "stdout",
          "text": [
            "20833\n"
          ]
        }
      ],
      "source": [
        "#calculating maximum non-outlier\n",
        "z_scores = stats.zscore(data['ApplicantIncome'])\n",
        "outliers = (z_scores > 3) | (z_scores < -3)\n",
        "max_non_outlier = np.max(data['ApplicantIncome'][~outliers])\n",
        "print(max_non_outlier)"
      ]
    },
    {
      "cell_type": "code",
      "execution_count": null,
      "metadata": {
        "id": "a9Iyoea_Ia5I"
      },
      "outputs": [],
      "source": [
        "#Replacing outliers with maximum non-outlier\n",
        "data['ApplicantIncome'] = np.where(data['ApplicantIncome'] > 20833, 20833, data['ApplicantIncome'])"
      ]
    },
    {
      "cell_type": "code",
      "execution_count": null,
      "metadata": {
        "colab": {
          "base_uri": "https://localhost:8080/",
          "height": 447
        },
        "id": "O43OhzFUI2Xf",
        "outputId": "6dd126c7-7e1f-4509-8299-04203c5ed6d5"
      },
      "outputs": [
        {
          "output_type": "execute_result",
          "data": {
            "text/plain": [
              "<Axes: >"
            ]
          },
          "metadata": {},
          "execution_count": 55
        },
        {
          "output_type": "display_data",
          "data": {
            "text/plain": [
              "<Figure size 640x480 with 1 Axes>"
            ],
            "image/png": "[encoded data removed]"
          },
          "metadata": {}
        }
      ],
      "source": [
        "sns.boxplot(data=data, palette='rainbow', orient='h')"
      ]
    },
    {
      "cell_type": "markdown",
      "metadata": {
        "id": "ye1MqcnDI4ZF"
      },
      "source": [
        "We notice the change in the box plot"
      ]
    },
    {
      "cell_type": "code",
      "execution_count": null,
      "metadata": {
        "colab": {
          "base_uri": "https://localhost:8080/"
        },
        "id": "N8kh0vOmI8q_",
        "outputId": "d63a1cc0-934b-4405-ed30-4adaf0f43e2a"
      },
      "outputs": [
        {
          "output_type": "stream",
          "name": "stdout",
          "text": [
            "8980.0\n"
          ]
        }
      ],
      "source": [
        "#Repeat same steps with \"CoapplicantIncome\"\n",
        "z2_scores = stats.zscore(data['CoapplicantIncome'])\n",
        "outliers2 = (z2_scores > 3) | (z2_scores < -3)\n",
        "max2_non_outlier = np.max(data['CoapplicantIncome'][~outliers2])\n",
        "print(max2_non_outlier)"
      ]
    },
    {
      "cell_type": "code",
      "execution_count": null,
      "metadata": {
        "id": "2cHNwDn3Lycu"
      },
      "outputs": [],
      "source": [
        "data['CoapplicantIncome'] = np.where(data['CoapplicantIncome'] > 8980, 8980, data['CoapplicantIncome'])"
      ]
    },
    {
      "cell_type": "code",
      "execution_count": null,
      "metadata": {
        "colab": {
          "base_uri": "https://localhost:8080/",
          "height": 447
        },
        "id": "LEnmmkUyL1t1",
        "outputId": "530cfd1f-3bf9-4820-954e-b0e304fa67e6"
      },
      "outputs": [
        {
          "output_type": "execute_result",
          "data": {
            "text/plain": [
              "<Axes: >"
            ]
          },
          "metadata": {},
          "execution_count": 58
        },
        {
          "output_type": "display_data",
          "data": {
            "text/plain": [
              "<Figure size 640x480 with 1 Axes>"
            ],
            "image/png": "[encoded data removed]"
          },
          "metadata": {}
        }
      ],
      "source": [
        "sns.boxplot(data=data, palette='rainbow', orient='h')"
      ]
    },
    {
      "cell_type": "markdown",
      "metadata": {
        "id": "p20P91vAL786"
      },
      "source": [
        "We notice the change in the box plot"
      ]
    },
    {
      "cell_type": "markdown",
      "source": [
        "Data visualization"
      ],
      "metadata": {
        "id": "wqD2oUk3uxWs"
      }
    },
    {
      "cell_type": "code",
      "execution_count": null,
      "metadata": {
        "colab": {
          "base_uri": "https://localhost:8080/",
          "height": 466
        },
        "id": "MwLiIUGPP2wS",
        "outputId": "d0385f15-b110-47e9-962d-2aa96eb8c376"
      },
      "outputs": [
        {
          "output_type": "execute_result",
          "data": {
            "text/plain": [
              "<Axes: xlabel='LoanAmount', ylabel='Count'>"
            ]
          },
          "metadata": {},
          "execution_count": 59
        },
        {
          "output_type": "display_data",
          "data": {
            "text/plain": [
              "<Figure size 640x480 with 1 Axes>"
            ],
            "image/png": "[encoded data removed]"
          },
          "metadata": {}
        }
      ],
      "source": [
        "#plot the 'LoanAmount' column with its density\n",
        "sns.histplot(data['LoanAmount'])"
      ]
    },
    {
      "cell_type": "code",
      "execution_count": null,
      "metadata": {
        "colab": {
          "base_uri": "https://localhost:8080/",
          "height": 466
        },
        "id": "Ce3yyBprP9qv",
        "outputId": "71f23f03-f3f2-4318-c191-5003b54ae537"
      },
      "outputs": [
        {
          "output_type": "execute_result",
          "data": {
            "text/plain": [
              "<Axes: xlabel='Gender', ylabel='LoanAmount'>"
            ]
          },
          "metadata": {},
          "execution_count": 60
        },
        {
          "output_type": "display_data",
          "data": {
            "text/plain": [
              "<Figure size 640x480 with 1 Axes>"
            ],
            "image/png": "[encoded data removed]"
          },
          "metadata": {}
        }
      ],
      "source": [
        "#bar plot (density)\n",
        "#note that 1(orange): male, 0(blue):female\n",
        "sns.barplot(x='Gender',y='LoanAmount',data=data)"
      ]
    },
    {
      "cell_type": "code",
      "execution_count": null,
      "metadata": {
        "colab": {
          "base_uri": "https://localhost:8080/",
          "height": 270
        },
        "id": "ojizMgpHg9ms",
        "outputId": "18ece7d1-ac79-492a-bf44-9b14a4b91f70"
      },
      "outputs": [
        {
          "output_type": "execute_result",
          "data": {
            "text/plain": [
              "   Gender  Married  Education  Self_Employed  ApplicantIncome  \\\n",
              "0     1.0      0.0        1.0            0.0         0.275540   \n",
              "1     1.0      1.0        1.0            0.0         0.214331   \n",
              "2     1.0      1.0        1.0            1.0         0.137794   \n",
              "3     1.0      1.0        0.0            0.0         0.117633   \n",
              "4     1.0      0.0        1.0            0.0         0.282841   \n",
              "\n",
              "   CoapplicantIncome  LoanAmount  Loan_Amount_Term  Credit_History  \\\n",
              "0           0.000000    0.198860           0.74359             1.0   \n",
              "1           0.167929    0.172214           0.74359             1.0   \n",
              "2           0.000000    0.082489           0.74359             1.0   \n",
              "3           0.262584    0.160637           0.74359             1.0   \n",
              "4           0.000000    0.191027           0.74359             1.0   \n",
              "\n",
              "   Loan_Status  Property_Area_Rural  Property_Area_Semiurban  \\\n",
              "0          1.0                  0.0                      0.0   \n",
              "1          0.0                  1.0                      0.0   \n",
              "2          1.0                  0.0                      0.0   \n",
              "3          1.0                  0.0                      0.0   \n",
              "4          1.0                  0.0                      0.0   \n",
              "\n",
              "   Property_Area_Urban  Dependents_0  Dependents_1  Dependents_2  \\\n",
              "0                  1.0           1.0           0.0           0.0   \n",
              "1                  0.0           0.0           1.0           0.0   \n",
              "2                  1.0           1.0           0.0           0.0   \n",
              "3                  1.0           1.0           0.0           0.0   \n",
              "4                  1.0           1.0           0.0           0.0   \n",
              "\n",
              "   Dependents_3+  \n",
              "0            0.0  \n",
              "1            0.0  \n",
              "2            0.0  \n",
              "3            0.0  \n",
              "4            0.0  "
            ],
            "text/html": [
              "\n",
              "  <div id=\"df-e2756813-a9a0-4aa8-b32d-fd7035085af7\">\n",
              "    <div class=\"colab-df-container\">\n",
              "      <div>\n",
              "<style scoped>\n",
              "    .dataframe tbody tr th:only-of-type {\n",
              "        vertical-align: middle;\n",
              "    }\n",
              "\n",
              "    .dataframe tbody tr th {\n",
              "        vertical-align: top;\n",
              "    }\n",
              "\n",
              "    .dataframe thead th {\n",
              "        text-align: right;\n",
              "    }\n",
              "</style>\n",
              "<table border=\"1\" class=\"dataframe\">\n",
              "  <thead>\n",
              "    <tr style=\"text-align: right;\">\n",
              "      <th></th>\n",
              "      <th>Gender</th>\n",
              "      <th>Married</th>\n",
              "      <th>Education</th>\n",
              "      <th>Self_Employed</th>\n",
              "      <th>ApplicantIncome</th>\n",
              "      <th>CoapplicantIncome</th>\n",
              "      <th>LoanAmount</th>\n",
              "      <th>Loan_Amount_Term</th>\n",
              "      <th>Credit_History</th>\n",
              "      <th>Loan_Status</th>\n",
              "      <th>Property_Area_Rural</th>\n",
              "      <th>Property_Area_Semiurban</th>\n",
              "      <th>Property_Area_Urban</th>\n",
              "      <th>Dependents_0</th>\n",
              "      <th>Dependents_1</th>\n",
              "      <th>Dependents_2</th>\n",
              "      <th>Dependents_3+</th>\n",
              "    </tr>\n",
              "  </thead>\n",
              "  <tbody>\n",
              "    <tr>\n",
              "      <th>0</th>\n",
              "      <td>1.0</td>\n",
              "      <td>0.0</td>\n",
              "      <td>1.0</td>\n",
              "      <td>0.0</td>\n",
              "      <td>0.275540</td>\n",
              "      <td>0.000000</td>\n",
              "      <td>0.198860</td>\n",
              "      <td>0.74359</td>\n",
              "      <td>1.0</td>\n",
              "      <td>1.0</td>\n",
              "      <td>0.0</td>\n",
              "      <td>0.0</td>\n",
              "      <td>1.0</td>\n",
              "      <td>1.0</td>\n",
              "      <td>0.0</td>\n",
              "      <td>0.0</td>\n",
              "      <td>0.0</td>\n",
              "    </tr>\n",
              "    <tr>\n",
              "      <th>1</th>\n",
              "      <td>1.0</td>\n",
              "      <td>1.0</td>\n",
              "      <td>1.0</td>\n",
              "      <td>0.0</td>\n",
              "      <td>0.214331</td>\n",
              "      <td>0.167929</td>\n",
              "      <td>0.172214</td>\n",
              "      <td>0.74359</td>\n",
              "      <td>1.0</td>\n",
              "      <td>0.0</td>\n",
              "      <td>1.0</td>\n",
              "      <td>0.0</td>\n",
              "      <td>0.0</td>\n",
              "      <td>0.0</td>\n",
              "      <td>1.0</td>\n",
              "      <td>0.0</td>\n",
              "      <td>0.0</td>\n",
              "    </tr>\n",
              "    <tr>\n",
              "      <th>2</th>\n",
              "      <td>1.0</td>\n",
              "      <td>1.0</td>\n",
              "      <td>1.0</td>\n",
              "      <td>1.0</td>\n",
              "      <td>0.137794</td>\n",
              "      <td>0.000000</td>\n",
              "      <td>0.082489</td>\n",
              "      <td>0.74359</td>\n",
              "      <td>1.0</td>\n",
              "      <td>1.0</td>\n",
              "      <td>0.0</td>\n",
              "      <td>0.0</td>\n",
              "      <td>1.0</td>\n",
              "      <td>1.0</td>\n",
              "      <td>0.0</td>\n",
              "      <td>0.0</td>\n",
              "      <td>0.0</td>\n",
              "    </tr>\n",
              "    <tr>\n",
              "      <th>3</th>\n",
              "      <td>1.0</td>\n",
              "      <td>1.0</td>\n",
              "      <td>0.0</td>\n",
              "      <td>0.0</td>\n",
              "      <td>0.117633</td>\n",
              "      <td>0.262584</td>\n",
              "      <td>0.160637</td>\n",
              "      <td>0.74359</td>\n",
              "      <td>1.0</td>\n",
              "      <td>1.0</td>\n",
              "      <td>0.0</td>\n",
              "      <td>0.0</td>\n",
              "      <td>1.0</td>\n",
              "      <td>1.0</td>\n",
              "      <td>0.0</td>\n",
              "      <td>0.0</td>\n",
              "      <td>0.0</td>\n",
              "    </tr>\n",
              "    <tr>\n",
              "      <th>4</th>\n",
              "      <td>1.0</td>\n",
              "      <td>0.0</td>\n",
              "      <td>1.0</td>\n",
              "      <td>0.0</td>\n",
              "      <td>0.282841</td>\n",
              "      <td>0.000000</td>\n",
              "      <td>0.191027</td>\n",
              "      <td>0.74359</td>\n",
              "      <td>1.0</td>\n",
              "      <td>1.0</td>\n",
              "      <td>0.0</td>\n",
              "      <td>0.0</td>\n",
              "      <td>1.0</td>\n",
              "      <td>1.0</td>\n",
              "      <td>0.0</td>\n",
              "      <td>0.0</td>\n",
              "      <td>0.0</td>\n",
              "    </tr>\n",
              "  </tbody>\n",
              "</table>\n",
              "</div>\n",
              "      <button class=\"colab-df-convert\" onclick=\"convertToInteractive('df-e2756813-a9a0-4aa8-b32d-fd7035085af7')\"\n",
              "              title=\"Convert this dataframe to an interactive table.\"\n",
              "              style=\"display:none;\">\n",
              "        \n",
              "  <svg xmlns=\"http://www.w3.org/2000/svg\" height=\"24px\"viewBox=\"0 0 24 24\"\n",
              "       width=\"24px\">\n",
              "    <path d=\"M0 0h24v24H0V0z\" fill=\"none\"/>\n",
              "    <path d=\"M18.56 5.44l.94 2.06.94-2.06 2.06-.94-2.06-.94-.94-2.06-.94 2.06-2.06.94zm-11 1L8.5 8.5l.94-2.06 2.06-.94-2.06-.94L8.5 2.5l-.94 2.06-2.06.94zm10 10l.94 2.06.94-2.06 2.06-.94-2.06-.94-.94-2.06-.94 2.06-2.06.94z\"/><path d=\"M17.41 7.96l-1.37-1.37c-.4-.4-.92-.59-1.43-.59-.52 0-1.04.2-1.43.59L10.3 9.45l-7.72 7.72c-.78.78-.78 2.05 0 2.83L4 21.41c.39.39.9.59 1.41.59.51 0 1.02-.2 1.41-.59l7.78-7.78 2.81-2.81c.8-.78.8-2.07 0-2.86zM5.41 20L4 18.59l7.72-7.72 1.47 1.35L5.41 20z\"/>\n",
              "  </svg>\n",
              "      </button>\n",
              "      \n",
              "  <style>\n",
              "    .colab-df-container {\n",
              "      display:flex;\n",
              "      flex-wrap:wrap;\n",
              "      gap: 12px;\n",
              "    }\n",
              "\n",
              "    .colab-df-convert {\n",
              "      background-color: #E8F0FE;\n",
              "      border: none;\n",
              "      border-radius: 50%;\n",
              "      cursor: pointer;\n",
              "      display: none;\n",
              "      fill: #1967D2;\n",
              "      height: 32px;\n",
              "      padding: 0 0 0 0;\n",
              "      width: 32px;\n",
              "    }\n",
              "\n",
              "    .colab-df-convert:hover {\n",
              "      background-color: #E2EBFA;\n",
              "      box-shadow: 0px 1px 2px rgba(60, 64, 67, 0.3), 0px 1px 3px 1px rgba(60, 64, 67, 0.15);\n",
              "      fill: #174EA6;\n",
              "    }\n",
              "\n",
              "    [theme=dark] .colab-df-convert {\n",
              "      background-color: #3B4455;\n",
              "      fill: #D2E3FC;\n",
              "    }\n",
              "\n",
              "    [theme=dark] .colab-df-convert:hover {\n",
              "      background-color: #434B5C;\n",
              "      box-shadow: 0px 1px 3px 1px rgba(0, 0, 0, 0.15);\n",
              "      filter: drop-shadow(0px 1px 2px rgba(0, 0, 0, 0.3));\n",
              "      fill: #FFFFFF;\n",
              "    }\n",
              "  </style>\n",
              "\n",
              "      <script>\n",
              "        const buttonEl =\n",
              "          document.querySelector('#df-e2756813-a9a0-4aa8-b32d-fd7035085af7 button.colab-df-convert');\n",
              "        buttonEl.style.display =\n",
              "          google.colab.kernel.accessAllowed ? 'block' : 'none';\n",
              "\n",
              "        async function convertToInteractive(key) {\n",
              "          const element = document.querySelector('#df-e2756813-a9a0-4aa8-b32d-fd7035085af7');\n",
              "          const dataTable =\n",
              "            await google.colab.kernel.invokeFunction('convertToInteractive',\n",
              "                                                     [key], {});\n",
              "          if (!dataTable) return;\n",
              "\n",
              "          const docLinkHtml = 'Like what you see? Visit the ' +\n",
              "            '<a target=\"_blank\" href=https://colab.research.google.com/notebooks/data_table.ipynb>data table notebook</a>'\n",
              "            + ' to learn more about interactive tables.';\n",
              "          element.innerHTML = '';\n",
              "          dataTable['output_type'] = 'display_data';\n",
              "          await google.colab.output.renderOutput(dataTable, element);\n",
              "          const docLink = document.createElement('div');\n",
              "          docLink.innerHTML = docLinkHtml;\n",
              "          element.appendChild(docLink);\n",
              "        }\n",
              "      </script>\n",
              "    </div>\n",
              "  </div>\n",
              "  "
            ]
          },
          "metadata": {},
          "execution_count": 61
        }
      ],
      "source": [
        "#feature scaling normalization\n",
        "from sklearn.preprocessing import MinMaxScaler \n",
        "#to take an object from class MinMaxScaler\n",
        "scaler = MinMaxScaler() \n",
        "#this code normalizes values in dataframe , but it returns an array\n",
        "normalized_data = scaler.fit_transform(data)\n",
        "\n",
        "#converting array to dataframe\n",
        "df = pd.DataFrame(normalized_data, columns=data.columns)\n",
        "\n",
        "#now we have df as a normalized dataframe with all values in range [0,1]\n",
        "df.head()"
      ]
    },
    {
      "cell_type": "code",
      "source": [
        "# Define your data and labels\n",
        "X =df.drop(['Loan_Status'],axis=1)\n",
        "y =df['Loan_Status']"
      ],
      "metadata": {
        "id": "6BeSlryE7hl4"
      },
      "execution_count": null,
      "outputs": []
    },
    {
      "cell_type": "code",
      "execution_count": null,
      "metadata": {
        "id": "mxan00OA3vYg",
        "colab": {
          "base_uri": "https://localhost:8080/"
        },
        "outputId": "b0bddff0-b140-4050-f566-f455be6f6bc8"
      },
      "outputs": [
        {
          "output_type": "stream",
          "name": "stdout",
          "text": [
            "Best random_state: 8\n",
            "Best accuracy: 0.8861788617886179\n"
          ]
        }
      ],
      "source": [
        "\n",
        "from sklearn.model_selection import train_test_split\n",
        "from sklearn.linear_model import LogisticRegression\n",
        "\n",
        "# Define the range of random_state values to test\n",
        "random_state_values = range(1, 101)\n",
        "\n",
        "best_random_state = None\n",
        "best_accuracy = 0\n",
        "\n",
        "# Iterate over the random_state values\n",
        "for random_state in random_state_values:\n",
        "    # Split the data into training and testing sets\n",
        "    X_train, X_test, y_train, y_test = train_test_split(X, y, test_size=0.2, random_state=random_state)\n",
        "\n",
        "    # Initialize and train your model\n",
        "    model = LogisticRegression()\n",
        "    model.fit(X_train, y_train)\n",
        "\n",
        "    # Evaluate the accuracy\n",
        "    accuracy = model.score(X_test, y_test)\n",
        "\n",
        "    # Update the best accuracy and random_state value if necessary\n",
        "    if accuracy > best_accuracy:\n",
        "        best_accuracy = accuracy\n",
        "        best_random_state = random_state\n",
        "\n",
        "# Print the best random_state value and corresponding accuracy\n",
        "print(\"Best random_state:\", best_random_state)\n",
        "print(\"Best accuracy:\", best_accuracy)\n"
      ]
    },
    {
      "cell_type": "code",
      "source": [
        "from sklearn.model_selection import train_test_split\n",
        "from sklearn.linear_model import LogisticRegression\n",
        "from sklearn.svm import SVC\n",
        "from sklearn.tree import DecisionTreeClassifier\n",
        "from sklearn.metrics import accuracy_score, mean_squared_error, confusion_matrix, classification_report\n",
        "x_train, x_test, y_train, y_test = train_test_split(X, y, test_size=0.2, random_state=8)"
      ],
      "metadata": {
        "id": "kiuL_Eqf70VZ"
      },
      "execution_count": null,
      "outputs": []
    },
    {
      "cell_type": "code",
      "source": [
        "# Logistic Regression\n",
        "lr_model = LogisticRegression(solver='liblinear', C=10.0, random_state=8)\n",
        "lr_model.fit(x_train, y_train)\n",
        "lr_pred = lr_model.predict(x_test)\n",
        "lr_acc = accuracy_score(y_test, lr_pred)\n",
        "lr_mse = mean_squared_error(y_test, lr_pred)\n",
        "lr_cm = confusion_matrix(y_test, lr_pred)\n",
        "lr_cr = classification_report(y_test, lr_pred)\n",
        "print(\"\\nLogistic Regression model results:\")\n",
        "print(\"Logistic Regression accuracy:\", lr_acc)\n",
        "print(\"Mean Squared Error:\", lr_mse)\n",
        "print(\"Confusion Matrix:\\n\", lr_cm)\n",
        "print(\"Classification Report:\\n\", lr_cr)"
      ],
      "metadata": {
        "colab": {
          "base_uri": "https://localhost:8080/"
        },
        "id": "U5mstPWk5SSB",
        "outputId": "c21cac59-a717-4d41-d3b4-696cb4848382"
      },
      "execution_count": null,
      "outputs": [
        {
          "output_type": "stream",
          "name": "stdout",
          "text": [
            "\n",
            "Logistic Regression model results:\n",
            "Logistic Regression accuracy: 0.8861788617886179\n",
            "Mean Squared Error: 0.11382113821138211\n",
            "Confusion Matrix:\n",
            " [[19 14]\n",
            " [ 0 90]]\n",
            "Classification Report:\n",
            "               precision    recall  f1-score   support\n",
            "\n",
            "         0.0       1.00      0.58      0.73        33\n",
            "         1.0       0.87      1.00      0.93        90\n",
            "\n",
            "    accuracy                           0.89       123\n",
            "   macro avg       0.93      0.79      0.83       123\n",
            "weighted avg       0.90      0.89      0.87       123\n",
            "\n"
          ]
        }
      ]
    },
    {
      "cell_type": "code",
      "source": [
        "from sklearn.metrics import confusion_matrix\n",
        "cm=confusion_matrix(y_test,lr_pred)\n",
        "plt.title('Heatmap of confusion_matrix',fontsize=15)\n",
        "sns.heatmap(cm,annot=True)\n",
        "plt.show()"
      ],
      "metadata": {
        "colab": {
          "base_uri": "https://localhost:8080/",
          "height": 454
        },
        "id": "ToSXlDnY5b8r",
        "outputId": "faada0a0-5dbd-4c6f-c15c-e7880cae7360"
      },
      "execution_count": null,
      "outputs": [
        {
          "output_type": "display_data",
          "data": {
            "text/plain": [
              "<Figure size 640x480 with 2 Axes>"
            ],
            "image/png": "[encoded data removed]"
          },
          "metadata": {}
        }
      ]
    },
    {
      "cell_type": "code",
      "source": [
        "from sklearn.model_selection import train_test_split\n",
        "from sklearn.svm import SVC\n",
        "from sklearn.metrics import accuracy_score\n",
        "\n",
        "# Choose a range of random_state values to test\n",
        "random_state_values = range(1, 101)\n",
        "\n",
        "best_random_state = None\n",
        "best_accuracy = 0.0\n",
        "\n",
        "# Iterate over the random_state values\n",
        "for random_state in random_state_values:\n",
        "    # Split the data into training and testing sets\n",
        "    X_train, X_test, y_train, y_test = train_test_split(X, y, test_size=0.2, random_state=random_state)\n",
        "\n",
        "    # Initialize and train the SVM model\n",
        "    svm_classifier = SVC(C=1.0, kernel='linear', random_state=random_state)\n",
        "    svm_classifier.fit(X_train, y_train)\n",
        "\n",
        "    # Predict the labels for the test set\n",
        "    y_predicted = svm_classifier.predict(X_test)\n",
        "\n",
        "    # Calculate the accuracy\n",
        "    test_accuracy = accuracy_score(y_test, y_predicted)\n",
        "\n",
        "    # Update the best accuracy and random_state value if necessary\n",
        "    if test_accuracy > best_accuracy:\n",
        "        best_accuracy = test_accuracy\n",
        "        best_random_state = random_state\n",
        "\n",
        "# Print the best random_state value and corresponding accuracy\n",
        "print(\"Best random_state:\", best_random_state)\n",
        "print(\"Best accuracy:\", best_accuracy)"
      ],
      "metadata": {
        "id": "Djv1dnhcqdXw",
        "outputId": "44d48885-3df7-4c5d-90df-07292a564c2c",
        "colab": {
          "base_uri": "https://localhost:8080/"
        }
      },
      "execution_count": null,
      "outputs": [
        {
          "output_type": "stream",
          "name": "stdout",
          "text": [
            "Best random_state: 8\n",
            "Best accuracy: 0.8861788617886179\n"
          ]
        }
      ]
    },
    {
      "cell_type": "code",
      "source": [
        "#SVM\n",
        "from sklearn.svm import SVC\n",
        "\n",
        "# Define your data and labels\n",
        "X =df.drop(['Loan_Status'],axis=1)\n",
        "y =df['Loan_Status']\n",
        "X_train, X_test, y_train, y_test = train_test_split(X, y, test_size=0.2, random_state=8)\n",
        "\n",
        "svm_model = SVC(C=1.0, kernel='linear', random_state=8)\n",
        "svm_model.fit(X_train, y_train)\n",
        "svm_pred = svm_model.predict(X_test)\n",
        "svm_acc = accuracy_score(y_test, svm_pred)\n",
        "svm_mse = mean_squared_error(y_test, svm_pred)\n",
        "svm_cm = confusion_matrix(y_test, svm_pred)\n",
        "svm_cr = classification_report(y_test, svm_pred)\n",
        "print(\"SVM model results:\")\n",
        "print(\"SVM accuracy:\", svm_acc)\n",
        "print(\"Mean Squared Error:\", svm_mse)\n",
        "print(\"Confusion Matrix:\\n\", svm_cm)\n",
        "print(\"Classification Report:\\n\", svm_cr)"
      ],
      "metadata": {
        "colab": {
          "base_uri": "https://localhost:8080/"
        },
        "id": "QZVVJeHR8Wqp",
        "outputId": "24e10e5c-2bb3-4c35-9ddf-301e5a88308a"
      },
      "execution_count": null,
      "outputs": [
        {
          "output_type": "stream",
          "name": "stdout",
          "text": [
            "SVM model results:\n",
            "SVM accuracy: 0.8861788617886179\n",
            "Mean Squared Error: 0.11382113821138211\n",
            "Confusion Matrix:\n",
            " [[19 14]\n",
            " [ 0 90]]\n",
            "Classification Report:\n",
            "               precision    recall  f1-score   support\n",
            "\n",
            "         0.0       1.00      0.58      0.73        33\n",
            "         1.0       0.87      1.00      0.93        90\n",
            "\n",
            "    accuracy                           0.89       123\n",
            "   macro avg       0.93      0.79      0.83       123\n",
            "weighted avg       0.90      0.89      0.87       123\n",
            "\n"
          ]
        }
      ]
    },
    {
      "cell_type": "code",
      "source": [
        "from sklearn.metrics import confusion_matrix\n",
        "cm=confusion_matrix(y_test,svm_pred)\n",
        "plt.title('Heatmap of confusion_matrix',fontsize=15)\n",
        "sns.heatmap(cm,annot=True)\n",
        "plt.show()"
      ],
      "metadata": {
        "colab": {
          "base_uri": "https://localhost:8080/",
          "height": 454
        },
        "id": "jsiAez_h8djc",
        "outputId": "8c95c1ae-5065-41a8-9e5e-48f79f2c5018"
      },
      "execution_count": null,
      "outputs": [
        {
          "output_type": "display_data",
          "data": {
            "text/plain": [
              "<Figure size 640x480 with 2 Axes>"
            ],
            "image/png": "[encoded data removed]"
          },
          "metadata": {}
        }
      ]
    },
    {
      "cell_type": "code",
      "source": [
        "x=df.drop(['Loan_Status'],axis=1)\n",
        "y=df['Loan_Status']"
      ],
      "metadata": {
        "id": "NvoOl4BU-j7v"
      },
      "execution_count": null,
      "outputs": []
    },
    {
      "cell_type": "code",
      "source": [
        "\n",
        "from sklearn.model_selection import train_test_split\n",
        "from sklearn.tree import DecisionTreeClassifier\n",
        "\n",
        "random_state_values = range(1, 101)\n",
        "\n",
        "best_random_state = None\n",
        "best_accuracy = 0.0\n",
        "\n",
        "# Iterate over the random_state values\n",
        "for random_state in random_state_values:\n",
        "    # Split the data into training and testing sets\n",
        "    X_train, X_test, y_train, y_test = train_test_split(X, y, test_size=0.2, random_state=random_state)\n",
        "\n",
        "    # Initialize and train your Decision Tree model\n",
        "    dt_model = DecisionTreeClassifier(random_state=random_state)\n",
        "    dt_model.fit(X_train, y_train)\n",
        "\n",
        "    # Evaluate the accuracy\n",
        "    test_accuracy = dt_model.score(X_test, y_test)\n",
        "\n",
        "    # Update the best accuracy and random_state value if necessary\n",
        "    if test_accuracy > best_accuracy:\n",
        "        best_accuracy = test_accuracy\n",
        "        best_random_state = random_state\n",
        "\n",
        "# Print the best random_state value and corresponding accuracy\n",
        "print(\"Best random_state:\", best_random_state)"
      ],
      "metadata": {
        "colab": {
          "base_uri": "https://localhost:8080/"
        },
        "id": "_l4bjB9BAo8R",
        "outputId": "c2f64d05-6fbb-4797-fd40-d6c0a7f49032"
      },
      "execution_count": null,
      "outputs": [
        {
          "output_type": "stream",
          "name": "stdout",
          "text": [
            "Best random_state: 7\n"
          ]
        }
      ]
    },
    {
      "cell_type": "code",
      "source": [
        "from sklearn.tree import DecisionTreeClassifier\n",
        "from sklearn.metrics import accuracy_score\n",
        "from sklearn.model_selection import train_test_split\n",
        "\n",
        "# Define your features and target\n",
        "X =df.drop(['Loan_Status'],axis=1)\n",
        "y =df['Loan_Status']\n",
        "# Split the data into training and testing sets\n",
        "X_train, X_test, y_train, y_test = train_test_split(X, y, test_size=0.2, random_state=7)\n",
        "\n",
        "# Initialize and train the Decision Tree model\n",
        "dt_model = DecisionTreeClassifier(random_state=7, criterion = \"entropy\",max_depth=1)\n",
        "dt_model.fit(X_train, y_train)\n",
        "\n",
        "# Predict the labels for the test set\n",
        "y_pred = dt_model.predict(X_test)\n",
        "\n",
        "# Calculate the accuracy of the model\n",
        "accuracy = accuracy_score(y_test, y_pred)\n",
        "\n",
        "# Print the accuracy\n",
        "\n",
        "dt_mse = mean_squared_error(y_test, y_pred)\n",
        "dt_cm = confusion_matrix(y_test, y_pred)\n",
        "dt_cr = classification_report(y_test, y_pred)\n",
        "print(\"\\nDecision Tree model results:\")\n",
        "print(\"Decision Tree Accuracy:\", accuracy)\n",
        "print(\"Mean Squared Error:\", dt_mse)\n",
        "print(\"Confusion Matrix:\\n\", dt_cm)\n",
        "print(\"Classification Report:\\n\", dt_cr)\n"
      ],
      "metadata": {
        "colab": {
          "base_uri": "https://localhost:8080/"
        },
        "id": "lRs16qLL8jBg",
        "outputId": "b2b1492a-b7b4-42d5-c66a-ec7594583535"
      },
      "execution_count": null,
      "outputs": [
        {
          "output_type": "stream",
          "name": "stdout",
          "text": [
            "\n",
            "Decision Tree model results:\n",
            "Decision Tree Accuracy: 0.8292682926829268\n",
            "Mean Squared Error: 0.17073170731707318\n",
            "Confusion Matrix:\n",
            " [[20 19]\n",
            " [ 2 82]]\n",
            "Classification Report:\n",
            "               precision    recall  f1-score   support\n",
            "\n",
            "         0.0       0.91      0.51      0.66        39\n",
            "         1.0       0.81      0.98      0.89        84\n",
            "\n",
            "    accuracy                           0.83       123\n",
            "   macro avg       0.86      0.74      0.77       123\n",
            "weighted avg       0.84      0.83      0.81       123\n",
            "\n"
          ]
        }
      ]
    },
    {
      "cell_type": "code",
      "source": [
        "from sklearn.metrics import confusion_matrix\n",
        "cm=confusion_matrix(y_test,y_pred)\n",
        "plt.title('Heatmap of confusion_matrix',fontsize=15)\n",
        "sns.heatmap(cm,annot=True)\n",
        "plt.show()"
      ],
      "metadata": {
        "colab": {
          "base_uri": "https://localhost:8080/",
          "height": 454
        },
        "id": "NvB4GYytEIzC",
        "outputId": "0a046a0c-0379-4abf-889c-664ba4752fb6"
      },
      "execution_count": null,
      "outputs": [
        {
          "output_type": "display_data",
          "data": {
            "text/plain": [
              "<Figure size 640x480 with 2 Axes>"
            ],
            "image/png": "[encoded data removed]"
          },
          "metadata": {}
        }
      ]
    }
  ],
  "metadata": {
    "colab": {
      "provenance": []
    },
    "kernelspec": {
      "display_name": "Python 3",
      "name": "python3"
    },
    "language_info": {
      "name": "python"
    }
  },
  "nbformat": 4,
  "nbformat_minor": 0
}